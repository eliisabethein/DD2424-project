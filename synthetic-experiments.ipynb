{
 "cells": [
  {
   "cell_type": "code",
   "execution_count": 20,
   "metadata": {
    "colab": {
     "base_uri": "https://localhost:8080/",
     "height": 67
    },
    "colab_type": "code",
    "id": "HpqqiuiZbZLn",
    "outputId": "4feaa888-53de-480d-d7d3-e2ffd7ad7a2b"
   },
   "outputs": [
    {
     "name": "stderr",
     "output_type": "stream",
     "text": [
      "[nltk_data] Downloading package punkt to\n",
      "[nltk_data]     /Users/eliisabethein/nltk_data...\n",
      "[nltk_data]   Package punkt is already up-to-date!\n"
     ]
    },
    {
     "data": {
      "text/plain": [
       "True"
      ]
     },
     "execution_count": 20,
     "metadata": {},
     "output_type": "execute_result"
    }
   ],
   "source": [
    "import os\n",
    "import json\n",
    "import nltk\n",
    "import torch\n",
    "import torch.nn as nn\n",
    "import torch.nn.functional as F\n",
    "import torch.optim as optim\n",
    "import torch.distributions.normal as normal\n",
    "import numpy as np\n",
    "from scipy.stats import norm\n",
    "import matplotlib.pyplot as plt\n",
    "\n",
    "from torch.nn.utils import clip_grad_norm_\n",
    "from torch.nn.utils.rnn import pack_padded_sequence, pad_packed_sequence\n",
    "from nltk.tokenize import word_tokenize, sent_tokenize\n",
    "from nltk.tokenize import MWETokenizer\n",
    "\n",
    "import csv\n",
    "from gensim.models import Word2Vec\n",
    "import os.path\n",
    "\n",
    "nltk.download('punkt')"
   ]
  },
  {
   "cell_type": "code",
   "execution_count": 21,
   "metadata": {
    "colab": {},
    "colab_type": "code",
    "id": "JqN4walGbZLr"
   },
   "outputs": [],
   "source": [
    "torch.manual_seed(0)\n",
    "np.random.seed(0)"
   ]
  },
  {
   "cell_type": "markdown",
   "metadata": {
    "colab_type": "text",
    "id": "cSKWwvR2bZLu"
   },
   "source": [
    "## Functions"
   ]
  },
  {
   "cell_type": "code",
   "execution_count": 22,
   "metadata": {
    "colab": {},
    "colab_type": "code",
    "id": "6k0Znrz6bZLu"
   },
   "outputs": [],
   "source": [
    "def load_data(filename, max_sentence_len, with_labels=False):\n",
    "    # the tokenizer splits <unk> so we use MWETokenizer to re-merge it\n",
    "    data_original = []\n",
    "    data_padded = []\n",
    "    with open(filename, encoding=\"utf8\") as f:\n",
    "        for line in f:\n",
    "            sentence, padded_sentence = tokenize_sentence(line, max_sentence_len, with_labels)\n",
    "            data_original.append(sentence)\n",
    "            data_padded.append(padded_sentence)\n",
    "    \n",
    "    return data_original, data_padded\n",
    "\n",
    "def get_batches_synthetic(data, batch_size):\n",
    "    inputs = []\n",
    "    targets = []\n",
    "\n",
    "    for i in range(len(data) // batch_size):\n",
    "        batch_sentences = data[i * batch_size:(i+1) * batch_size]\n",
    "\n",
    "        input_batch = np.ones((batch_size, data.shape[1] - 1, 1)) \n",
    "        target_batch = np.ones((batch_size, data.shape[1] - 1, 1)) \n",
    "        for j, sentence in enumerate(batch_sentences):\n",
    "                input_batch[j,0:len(sentence)-1,0] = sentence[:-1]\n",
    "                target_batch[j,0:len(sentence)-1,0] = sentence[1:]\n",
    "        inputs.append(input_batch)\n",
    "        targets.append(target_batch)\n",
    "    \n",
    "    return inputs, targets"
   ]
  },
  {
   "cell_type": "markdown",
   "metadata": {
    "colab_type": "text",
    "id": "QTfmo5X7bZMB"
   },
   "source": [
    "### Encoder-decoder"
   ]
  },
  {
   "cell_type": "code",
   "execution_count": 23,
   "metadata": {
    "colab": {},
    "colab_type": "code",
    "id": "JJRr0EEBbZMB"
   },
   "outputs": [],
   "source": [
    "class Encoder(nn.Module):\n",
    "    def __init__(self, hidden_size, num_layers, embedding_weights, synthetic=False):\n",
    "        super(Encoder, self).__init__()\n",
    "        # parameters\n",
    "        self.embedding_size = embedding_weights.shape[1]\n",
    "        self.hidden_size = hidden_size\n",
    "        self.num_layers = num_layers\n",
    "        self.batch_first = True\n",
    "        \n",
    "        #layers\n",
    "        self.embed = nn.Embedding.from_pretrained(embedding_weights)\n",
    "        self.lstm = nn.LSTM(self.embedding_size, self.hidden_size, self.num_layers, batch_first=self.batch_first)\n",
    "        \n",
    "    def forward(self, x, hidden, x_lens=None, train=True):\n",
    "        batch_size, max_len, _ = x.shape\n",
    "        \n",
    "        x = torch.tensor(x, dtype=torch.long)  # make the input into a torch tensor\n",
    "        x = self.embed(x).view(batch_size, max_len, self.embedding_size)\n",
    "\n",
    "        if x_lens is not None and train:\n",
    "            x_lens = torch.tensor(x_lens, dtype=torch.long)\n",
    "            x = pack_padded_sequence(x, x_lens, batch_first=self.batch_first)\n",
    "            \n",
    "        output, hidden = self.lstm(x.float(), hidden) \n",
    "\n",
    "        if x_lens is not None and train:\n",
    "            output, output_lens = pad_packed_sequence(output, batch_first=self.batch_first, \n",
    "                                                      total_length=max_sentence_length-1)\n",
    "        return output, hidden\n",
    "    \n",
    "    def init_hidden(self, batch_size):\n",
    "        h = torch.zeros(self.num_layers, batch_size, self.hidden_size)\n",
    "        c = torch.zeros(self.num_layers, batch_size, self.hidden_size)\n",
    "        return (h, c)"
   ]
  },
  {
   "cell_type": "code",
   "execution_count": 24,
   "metadata": {
    "colab": {},
    "colab_type": "code",
    "id": "plSlS-fubZME"
   },
   "outputs": [],
   "source": [
    "class Decoder(nn.Module):\n",
    "    def __init__(self,hidden_size, num_layers, embedding_weights, synthetic=False):\n",
    "        super(Decoder, self).__init__()\n",
    "        # parameters\n",
    "        self.vocabulary_size = embedding_weights.shape[0]\n",
    "        self.embedding_size = embedding_weights.shape[1]\n",
    "        self.hidden_size = hidden_size\n",
    "        self.num_layers = num_layers\n",
    "        self.batch_first = True\n",
    "        \n",
    "        # layers\n",
    "        self.embed = nn.Embedding.from_pretrained(embedding_weights)\n",
    "        self.lstm = nn.LSTM(self.embedding_size, self.hidden_size, self.num_layers, batch_first=self.batch_first)\n",
    "        self.linear = nn.Linear(self.hidden_size, self.vocabulary_size)\n",
    "\n",
    "    def forward(self, x, hidden, x_lens=None, train=True):\n",
    "        batch_size, max_len, _ = x.shape\n",
    "        \n",
    "        x = torch.tensor(x, dtype=torch.long)  # make the input into a torch tensor\n",
    "        x = self.embed(x).view(batch_size, max_len, self.embedding_size)\n",
    "        \n",
    "        if x_lens is not None and train:\n",
    "            x_lens = torch.tensor(x_lens, dtype=torch.long)\n",
    "            x = pack_padded_sequence(x, x_lens, batch_first=self.batch_first)\n",
    "\n",
    "        output, hidden = self.lstm(x.float(), hidden) \n",
    "        \n",
    "        if x_lens is not None and train:\n",
    "            output, output_lens = pad_packed_sequence(output, batch_first=self.batch_first, \n",
    "                                                      total_length=max_sentence_length-1)\n",
    "        \n",
    "        output = output.reshape(output.size(0)*output.size(1), output.size(2))\n",
    "        output = self.linear(output)\n",
    "        \n",
    "        return output, hidden\n",
    "    "
   ]
  },
  {
   "cell_type": "markdown",
   "metadata": {
    "colab_type": "text",
    "id": "RGTiY8OzbZMG"
   },
   "source": [
    "### VAE"
   ]
  },
  {
   "cell_type": "code",
   "execution_count": 25,
   "metadata": {
    "colab": {},
    "colab_type": "code",
    "id": "HVeJWdxDbZMJ"
   },
   "outputs": [],
   "source": [
    "class StochasticEncoder(nn.Module):\n",
    "    def __init__(self, hidden_dim, num_layers, latent_dim, synthetic=False):\n",
    "        super(StochasticEncoder, self).__init__()\n",
    "        self.latent_dim = latent_dim\n",
    "        self.hidden_dim = hidden_dim\n",
    "        self.batch_first = True\n",
    "        \n",
    "        self.hidden_to_mean = nn.Linear(2 * self.hidden_dim * num_layers, self.latent_dim, self.batch_first)\n",
    "        self.hidden_to_logvar = nn.Linear(2 * self.hidden_dim * num_layers, self.latent_dim, self.batch_first)\n",
    "\n",
    "    def reparametrize(self, mean, log_variance):\n",
    "        eps = torch.randn_like(mean)\n",
    "        return mean + eps * torch.exp(0.5 * log_variance)\n",
    "        \n",
    "    def forward(self, hidden_concatenated):\n",
    "        mean = self.hidden_to_mean(hidden_concatenated)\n",
    "        log_variance = self.hidden_to_logvar(hidden_concatenated)\n",
    "        z = self.reparametrize(mean, log_variance)\n",
    "        return z, mean, log_variance"
   ]
  },
  {
   "cell_type": "code",
   "execution_count": 26,
   "metadata": {
    "colab": {},
    "colab_type": "code",
    "id": "eWVMhlE_bZMK"
   },
   "outputs": [],
   "source": [
    "class StochasticDecoder(nn.Module):\n",
    "    def __init__(self, hidden_dim, num_layers, latent_dim, synthetic=False):\n",
    "        super(StochasticDecoder, self).__init__()\n",
    "        self.latent_dim = latent_dim\n",
    "        self.hidden_dim = hidden_dim\n",
    "        self.batch_first = True\n",
    "        \n",
    "        self.latent_to_hidden = nn.Linear(latent_dim, 2 * self.hidden_dim * num_layers, self.batch_first)\n",
    "        \n",
    "    def forward(self, z):\n",
    "        hidden_concatenated = self.latent_to_hidden(z)\n",
    "        return hidden_concatenated"
   ]
  },
  {
   "cell_type": "code",
   "execution_count": 27,
   "metadata": {
    "colab": {},
    "colab_type": "code",
    "id": "pmtmMPFjbZMO"
   },
   "outputs": [],
   "source": [
    "# new VAE\n",
    "class VAE(nn.Module):\n",
    "    def __init__(self, hidden_dim, num_layers, embedding_weights, latent_dim, synthetic=False):\n",
    "        super(VAE, self).__init__()\n",
    "        self.latent_dim = latent_dim\n",
    "        self.hidden_dim = hidden_dim\n",
    "        self.batch_first = True\n",
    "        \n",
    "        self.encoder = Encoder(self.hidden_dim, num_layers, embedding_weights, synthetic)\n",
    "        self.stochastic_encoder = StochasticEncoder(self.hidden_dim, num_layers, self.latent_dim, synthetic)\n",
    "        self.stochastic_decoder = StochasticDecoder(self.hidden_dim, num_layers, self.latent_dim, synthetic)\n",
    "        self.decoder = Decoder(self.hidden_dim, num_layers, embedding_weights, synthetic)\n",
    "        \n",
    "        # THIS PART IS IMPORTANT -- I think it re-initialises all of the weights in the network with\n",
    "        ## this distribution, even the embedding weights, which we initialised to (-0.1,0.1) before;\n",
    "        ## with this distribution it (kind of) works both without annealing and with annealing \n",
    "        ## (why??? who knows)\n",
    "        if synthetic:          \n",
    "            for param in self.parameters():\n",
    "                nn.init.uniform_(param, -0.01, 0.01)\n",
    "            nn.init.uniform_(self.encoder.embed.weight, -0.1, 0.1)\n",
    "            nn.init.uniform_(self.decoder.embed.weight, -0.1, 0.1)\n",
    "        \n",
    "    def encode(self, x, x_lens=None):\n",
    "        batch_size, max_len, _ = x.shape\n",
    "        hidden = self.encoder.init_hidden(batch_size)\n",
    "        _, hidden = self.encoder.forward(x, hidden, x_lens)\n",
    "        return hidden\n",
    "    \n",
    "    def latent_to_hidden(self, z):\n",
    "        return self.stochastic_decoder.latent_to_hidden(z)\n",
    "        \n",
    "    # with teacher forcing\n",
    "    def decode(self, hidden, x, x_lens=None, train=True): \n",
    "        outputs, _ = self.decoder.forward(x, hidden, x_lens, train)\n",
    "        return outputs\n",
    "    \n",
    "    def forward(self, x, x_lens=None, dropout_rate=0, unk_index=0):\n",
    "        hidden = self.encode(x, x_lens)\n",
    "        hidden_concatenated = torch.cat((hidden[0], hidden[1]), 2)\n",
    "        z, mean, log_variance = self.stochastic_encoder.forward(hidden_concatenated)\n",
    "        hidden_concatenated = self.stochastic_decoder.forward(z)\n",
    "        hidden = torch.split(hidden_concatenated, self.hidden_dim, dim=2)\n",
    "        \n",
    "        # word dropout\n",
    "        if dropout_rate != 0.0:\n",
    "            drop_probs = np.random.random_sample(x.shape)\n",
    "            drop_probs[:, 0] = 1                  # set the <sos> token to 1 (always keep)\n",
    "            for i, x_len in enumerate(x_lens):\n",
    "                drop_probs[i, x_len:, 0] = 1      # set the <pad> tokens to 1 (always keep)\n",
    "            dropped_x = x.copy()\n",
    "            dropped_x[drop_probs < dropout_rate] = unk_index\n",
    "            outputs = self.decode(hidden, dropped_x, x_lens)\n",
    "        else:\n",
    "            outputs = self.decode(hidden, x, x_lens)\n",
    "            \n",
    "        return mean, log_variance, outputs\n",
    "    \n",
    "    def calc_mi(self, x):\n",
    "        # I(x, z) = E_xE_{q(z|x)}log(q(z|x)) - E_xE_{q(z|x)}log(q(z))\n",
    "        mean, log_variance, _ = self.forward(x)\n",
    "        _, batch_size, _ = mean.size()\n",
    "\n",
    "        # E_{q(z|x)}log(q(z|x)) = -0.5*nz*log(2*\\pi) - 0.5*(1+logvar).sum(-1)\n",
    "        neg_entropy = (-0.5 * self.latent_dim * np.log(2 * np.pi)- 0.5 * (1 + log_variance).sum(-1)).mean()\n",
    "\n",
    "        z = self.stochastic_encoder.reparametrize(mean, log_variance)\n",
    "        mean, log_variance = mean.unsqueeze(0), log_variance.unsqueeze(0)\n",
    "\n",
    "        log_density = -0.5 * (((z - mean) ** 2) / log_variance.exp()).sum(dim=-1) - \\\n",
    "            0.5 * (self.latent_dim * np.log(2 * np.pi) + log_variance.sum(-1))\n",
    "\n",
    "        log_qz = log_sum_exp(log_density, dim=1) - np.log(batch_size)\n",
    "\n",
    "        return (neg_entropy - log_qz.mean(-1)).item()"
   ]
  },
  {
   "cell_type": "code",
   "execution_count": 28,
   "metadata": {
    "colab": {},
    "colab_type": "code",
    "id": "11ksRu_ibZMV"
   },
   "outputs": [],
   "source": [
    "def loss_function(outputs, labels, mean, log_variance, seq_length, annealing_args=None, mask=None):\n",
    "    if mask is not None:\n",
    "        BCE = torch.zeros(mean.shape[1] * (seq_length - 1))\n",
    "        BCE[mask] = nn.CrossEntropyLoss(reduction='none')(outputs, labels)\n",
    "    else:\n",
    "        BCE = nn.CrossEntropyLoss(reduction='none')(outputs, labels)\n",
    "    BCE = BCE.view(mean.shape[1], -1).sum(-1)\n",
    "    KLD = -0.5 * (1 + log_variance - mean.pow(2) - log_variance.exp()).permute(1, 0, 2).sum(-1).squeeze(-1)\n",
    "    if annealing_args is not None:\n",
    "        kl_weight = kl_annealing_weight(annealing_args['type'], annealing_args['step'], annealing_args['k'], annealing_args['first_step'])\n",
    "    else:\n",
    "        kl_weight = 1.0\n",
    "    weighted_KLD = kl_weight * KLD\n",
    "    loss = BCE + weighted_KLD\n",
    "    return loss, BCE, KLD, weighted_KLD, kl_weight\n",
    "    \n",
    "def kl_annealing_weight(annealing_type, step, k, first_step):\n",
    "    if annealing_type == 'logistic':\n",
    "        return float(1/(1+np.exp(-k*(step-first_step))))\n",
    "    elif annealing_type == 'linear':\n",
    "        return min(1, step/first_step)"
   ]
  },
  {
   "cell_type": "markdown",
   "metadata": {
    "colab_type": "text",
    "id": "V_PQofHPbZMZ"
   },
   "source": [
    "### True posterior"
   ]
  },
  {
   "cell_type": "code",
   "execution_count": 29,
   "metadata": {
    "colab": {},
    "colab_type": "code",
    "id": "9mLWcpwQbZMZ"
   },
   "outputs": [],
   "source": [
    "def log_sum_exp(value, dim=None, keepdim=False):\n",
    "    \"\"\"Numerically stable implementation of the operation\n",
    "    value.exp().sum(dim, keepdim).log() - copied from repo, we should change it\n",
    "    \"\"\"\n",
    "    if dim is not None:\n",
    "        m, _ = torch.max(value, dim=dim, keepdim=True)\n",
    "        value0 = value - m\n",
    "        if keepdim is False:\n",
    "            m = m.squeeze(dim)\n",
    "        return m + torch.log(torch.sum(torch.exp(value0), dim=dim, keepdim=keepdim))\n",
    "    else:\n",
    "        m = torch.max(value)\n",
    "        sum_exp = torch.sum(torch.exp(value - m))\n",
    "        return m + torch.log(sum_exp)\n",
    "\n",
    "def compute_true_posterior(latent_grid, vae, inputs, targets):\n",
    "    log_true_posterior = compute_true_log_posterior(latent_grid, vae, inputs, targets)\n",
    "    true_posterior = log_true_posterior.exp()\n",
    "    return true_posterior\n",
    "\n",
    "def compute_true_log_posterior(latent_grid, vae, inputs, targets):\n",
    "    latent_grid = latent_grid.unsqueeze(0).expand(inputs.shape[0], *latent_grid.size()).contiguous().permute(1, 0, 2)\n",
    "    \n",
    "    # Compute the true joint\n",
    "    log_true_joint = compute_true_joint(latent_grid, vae, inputs, targets)\n",
    "    \n",
    "    # Normalize by marginalizing z\n",
    "    log_true_posterior = log_true_joint - log_sum_exp(log_true_joint, dim=0, keepdim=True)\n",
    "    return log_true_posterior\n",
    "\n",
    "def compute_true_joint(latent_grid, vae, inputs, targets):\n",
    "    n_sample, batch_size, latent_dim = latent_grid.size()\n",
    "    seq_len = inputs.shape[1]\n",
    "    # Compute prior p(z)\n",
    "    normal = torch.distributions.normal.Normal(torch.zeros(latent_dim), torch.ones(latent_dim))\n",
    "    log_true_prior = normal.log_prob(latent_grid).sum(dim=-1)\n",
    "    \n",
    "    # Compute conditional p(x | z)\n",
    "    log_true_conditional = torch.zeros(latent_grid.size(0), latent_grid.size(1))\n",
    "    tensor_target_batch = torch.tensor(targets.reshape(-1), dtype=torch.long)\n",
    "    for i in range(latent_grid.size(0)):\n",
    "        hidden_concatenated = vae.latent_to_hidden(latent_grid[i]).unsqueeze(0)\n",
    "        hidden = torch.split(hidden_concatenated, vae.hidden_dim, dim=-1)\n",
    "        outputs = vae.decode(hidden, inputs, train=False)\n",
    "        log_true_conditional[i] = -nn.CrossEntropyLoss(reduction='none')(outputs, tensor_target_batch).view(batch_size, -1).sum(-1)\n",
    "        \n",
    "    # Compute joint p(x, z)\n",
    "    log_true_joint = log_true_prior + log_true_conditional\n",
    "    return log_true_joint\n",
    "\n",
    "def compute_true_posterior_mean(true_posterior, latent_grid):\n",
    "    return torch.mul(true_posterior.unsqueeze(2), latent_grid.unsqueeze(0)).sum(1)\n",
    "\n",
    "def generate_grid(lower, upper, step, dim=2):\n",
    "    line = torch.arange(lower, upper, step)\n",
    "    total_points = line.size(0)\n",
    "    if dim == 2:\n",
    "        z1 = line.unsqueeze(1).repeat(1, total_points).view(-1)\n",
    "        z2 = line.repeat(total_points)\n",
    "        return torch.cat((z1.unsqueeze(-1), z2.unsqueeze(-1)), dim=-1)\n",
    "    elif dim == 1:\n",
    "        return line.unsqueeze(1)"
   ]
  },
  {
   "cell_type": "code",
   "execution_count": 31,
   "metadata": {
    "colab": {},
    "colab_type": "code",
    "id": "P-MX0DvhbZMc"
   },
   "outputs": [],
   "source": [
    "def plot_mean_space(step, latent_size, vae, tracked_inputs, tracked_targets, lim=3, \n",
    "                    iteration=None, save=True, plot_dir=\"plots\"):\n",
    "    latent_grid = generate_grid(-5, 5, step, latent_size)\n",
    "    true_posterior = compute_true_posterior(latent_grid, vae, tracked_inputs, tracked_targets)\n",
    "    true_mean = compute_true_posterior_mean(true_posterior.t(), latent_grid)\n",
    "    vae.eval()\n",
    "    approximate_mean, _, _ = vae.forward(tracked_inputs)\n",
    "    vae.train()\n",
    "    plt.figure(figsize=(4,4))\n",
    "    plt.plot(np.linspace(-1.5, 1.5, 100), np.linspace(-1.5, 1.5, 100), color='silver', linestyle='dashed', linewidth=1.0, zorder=1)\n",
    "    plt.plot(np.linspace(-1.5, 1.5, 100), np.linspace(0, 0, 100), color='silver', linestyle='dashed', linewidth=1.0, zorder=1)\n",
    "    plt.plot(np.linspace(0, 0, 100), np.linspace(-1.5, 1.5, 100), color='silver', linestyle='dashed', linewidth=1.0, zorder=1)\n",
    "    plt.scatter(true_mean.detach().numpy(), approximate_mean.detach().numpy(), marker='x', color='skyblue', s=15, zorder=2)\n",
    "    plt.xlim(-lim, lim)\n",
    "    plt.ylim(-lim, lim)\n",
    "    plt.xlabel(\"true posterior mean\")\n",
    "    plt.ylabel(\"approximate posterior mean\")\n",
    "    if save:\n",
    "        plt.savefig(\"{}/iteration_{}.pdf\".format(plot_dir, iteration), bbox_inches=\"tight\")\n",
    "    plt.show()\n",
    "\n",
    "def plot_kl(kl_terms, kl_weights, plot_dir=\"plots\", save=False):\n",
    "    plot_step = 10\n",
    "    x_axis = np.arange(len(kl_terms[::plot_step])) * plot_step\n",
    "    fig, ax1 = plt.subplots(figsize=(8,2.5))\n",
    "    ax1.plot(x_axis, kl_terms[::plot_step], color=\"skyblue\", label=\"KL term value\")\n",
    "    ax1.set_xlabel(\"iteration\")\n",
    "    ax1.set_ylabel(\"KL term\")\n",
    "    ax2 = ax1.twinx()\n",
    "    ax2.plot(x_axis, kl_weights[::plot_step], color=\"mediumorchid\", label=\"KL weight\")\n",
    "    ax2.set_ylabel(\"KL weight\")\n",
    "    ax2.set_ylim(-0.05,1.05)\n",
    "#     plt.legend()\n",
    "    if save:\n",
    "        plt.savefig(\"{}/annealing.pdf\".format(plot_dir), bbox_inches=\"tight\")\n",
    "    plt.show()\n",
    "    \n",
    "def plot_losses(train_losses, val_losses, save=False, plot_dir=\"plots\"):\n",
    "    x_axis = np.arange(1,len(train_losses)+1)\n",
    "    plt.figure(figsize=(5,4))\n",
    "    plt.plot(x_axis, train_losses, label=\"training loss\", color=\"skyblue\")\n",
    "    plt.plot(x_axis, val_losses, label=\"validation loss\", color=\"mediumorchid\")\n",
    "    plt.xlabel(\"loss\")\n",
    "    plt.ylabel(\"epoch\")\n",
    "    plt.legend()\n",
    "    if save:\n",
    "        plt.savefig(\"{}/losses.pdf\".format(plot_dir), bbox_inches=\"tight\")\n",
    "    plt.show()"
   ]
  },
  {
   "cell_type": "markdown",
   "metadata": {
    "colab_type": "text",
    "id": "BvL2RqG8bZMd"
   },
   "source": [
    "## Experiments"
   ]
  },
  {
   "cell_type": "code",
   "execution_count": 32,
   "metadata": {
    "colab": {},
    "colab_type": "code",
    "id": "y04SeMISbZMe"
   },
   "outputs": [],
   "source": [
    "def train(vae, inputs, targets, validation_inputs, validation_targets, epochs, vocab_size, hidden_size, \n",
    "          latent_size, max_sentence_length, num_layers=1, learning_rate=0.001,\n",
    "          synthetic=False, input_lens=None, val_input_lens=None,               # text-related parameters\n",
    "          dropout_rate=0.0, unk_index = None,                                  # word dropout parameters\n",
    "          plot=False, plot_lim=1.5, step=1.0, tracked_inputs=None, tracked_targets=None,      # plotting\n",
    "          annealing_args=None, is_aggressive=False, verbose=True, plot_dir=\"plots\"):\n",
    "    \n",
    "    opt_dict = {\"not_improved\": 0, \"lr\": learning_rate, \"best_loss\": 1e4}\n",
    "    \n",
    "    decay_epoch = 2\n",
    "    lr_decay = 0.5\n",
    "    max_decay = 5\n",
    "\n",
    "    enc_optimizer = torch.optim.Adam(vae.encoder.parameters(), lr=learning_rate, betas=(0.9, 0.999))\n",
    "    stoch_enc_optimizer = torch.optim.Adam(vae.stochastic_encoder.parameters(), lr=learning_rate, betas=(0.9, 0.999))\n",
    "    stoch_dec_optimizer = torch.optim.Adam(vae.stochastic_decoder.parameters(), lr=learning_rate, betas=(0.9, 0.999))\n",
    "    dec_optimizer = torch.optim.Adam(vae.decoder.parameters(), lr=learning_rate, betas=(0.9, 0.999))\n",
    "    \n",
    "    if annealing_args is not None:\n",
    "        kl_terms = []\n",
    "        kl_weights = []\n",
    "\n",
    "    iteration = 0\n",
    "    decay_cnt = 0\n",
    "    kl_losses = []\n",
    "    val_kl_losses = []\n",
    "    total_epoch_losses = []\n",
    "    val_total_epoch_losses = []\n",
    "    \n",
    "    if plot:\n",
    "        if not os.path.exists(plot_dir):\n",
    "            os.mkdir(plot_dir)\n",
    "    \n",
    "    if plot:\n",
    "        plot_mean_space(step, latent_size, vae, tracked_inputs, tracked_targets, \n",
    "                        lim=plot_lim, iteration=iteration, plot_dir=plot_dir)\n",
    "    \n",
    "    previous_mi = -1\n",
    "        \n",
    "    for epoch in range(epochs):        \n",
    "        for i in np.random.permutation(len(inputs)):\n",
    "            \n",
    "            inner_iter = 1\n",
    "            random_i = i\n",
    "            \n",
    "            burn_num_words = 0\n",
    "            burn_pre_loss = 1e4\n",
    "            burn_cur_loss = 0\n",
    "            while is_aggressive and inner_iter < 45:\n",
    "                x = inputs[random_i]\n",
    "                y = torch.tensor(targets[random_i].reshape(-1), dtype=torch.long)\n",
    "                x_lens = input_lens[random_i] if not synthetic else None\n",
    "                \n",
    "                enc_optimizer.zero_grad()\n",
    "                stoch_enc_optimizer.zero_grad()\n",
    "                stoch_dec_optimizer.zero_grad()\n",
    "                dec_optimizer.zero_grad()\n",
    "                \n",
    "                if synthetic:\n",
    "                    burn_batch_size, burn_sents_len, _ = x.shape\n",
    "                    burn_num_words += burn_sents_len * burn_batch_size\n",
    "                else:\n",
    "                    burn_num_words = np.sum(x_lens)\n",
    "                \n",
    "                mask = None\n",
    "                mean, log_variance, outputs = vae(x, x_lens=x_lens)\n",
    "                if not synthetic:\n",
    "                    mask = (y < padding_index)\n",
    "                    outputs = outputs[mask]\n",
    "                    y = y[mask]\n",
    "    \n",
    "                loss_summary = loss_function(outputs, y, mean, log_variance, max_sentence_length, annealing_args=annealing_args, mask=mask)\n",
    "                \n",
    "                loss = loss_summary[0]\n",
    "                burn_cur_loss += loss.sum().item()\n",
    "                \n",
    "                loss = loss.mean(dim=-1)\n",
    "                loss.backward()\n",
    "                \n",
    "                clip_grad_norm_(vae.parameters(), 5.0)\n",
    "                \n",
    "                enc_optimizer.step()\n",
    "                stoch_enc_optimizer.step()\n",
    "                \n",
    "                random_i = np.random.randint(0, len(inputs)- 1)\n",
    "                if inner_iter % 15 == 0:\n",
    "                    burn_cur_loss = burn_cur_loss / burn_num_words\n",
    "                    if burn_pre_loss - burn_cur_loss < 0:\n",
    "                        break\n",
    "                    burn_pre_loss = burn_cur_loss\n",
    "                    burn_cur_loss = 0\n",
    "                    burn_num_words = 0\n",
    "                inner_iter += 1\n",
    "              \n",
    "            x = inputs[i]\n",
    "            y = torch.tensor(targets[i].reshape(-1), dtype=torch.long)\n",
    "            x_lens = input_lens[i] if not synthetic else None  \n",
    "            \n",
    "            mask = None\n",
    "            mean, log_variance, outputs = vae(x, x_lens=x_lens, dropout_rate=dropout_rate, unk_index=unk_index)\n",
    "\n",
    "            if not synthetic:\n",
    "                mask = (y < padding_index)\n",
    "                outputs = outputs[mask]\n",
    "                y = y[mask]\n",
    "            \n",
    "            enc_optimizer.zero_grad()\n",
    "            stoch_enc_optimizer.zero_grad()\n",
    "            stoch_dec_optimizer.zero_grad()\n",
    "            dec_optimizer.zero_grad()\n",
    "            \n",
    "            loss_summary = loss_function(outputs, y, mean, log_variance, max_sentence_length, annealing_args=annealing_args, mask=mask)\n",
    "            loss = loss_summary[0]\n",
    "            loss = loss.mean(dim=-1)\n",
    "            \n",
    "            if annealing_args is not None:\n",
    "                kl_terms.append(np.mean(loss_summary[2].data.numpy()))\n",
    "                kl_weights.append(loss_summary[4])     \n",
    "            \n",
    "            loss.backward()\n",
    "            clip_grad_norm_(vae.parameters(), 5.0)\n",
    "            \n",
    "            if not is_aggressive:\n",
    "                enc_optimizer.step()\n",
    "                stoch_enc_optimizer.step()\n",
    "                \n",
    "            dec_optimizer.step()\n",
    "            stoch_dec_optimizer.step()\n",
    "\n",
    "            if (iteration % 100 == 0) and verbose:\n",
    "                print('epoch {} iteration {} loss {:.3f} CE {:.3f} KL {:.3f} weighted KL: {:.3f} weight {:.3f}'.format(epoch+1, \n",
    "                            iteration, loss, loss_summary[1].mean(dim=-1).data.item(), \\\n",
    "                            loss_summary[2].mean(dim=-1).data.item(), \\\n",
    "                            loss_summary[3].mean(dim=-1).data.item(), loss_summary[4]))\n",
    "\n",
    "            iteration += 1\n",
    "            \n",
    "            if annealing_args is not None:\n",
    "                annealing_args['step'] = iteration\n",
    "        \n",
    "        if is_aggressive:\n",
    "            vae.eval()\n",
    "            current_mi = calc_mi(vae, validation_inputs)\n",
    "            vae.train()\n",
    "            print('current_mi:', current_mi)\n",
    "            if current_mi - previous_mi < 0:\n",
    "                is_aggressive = False\n",
    "                print(\"STOP AGGRESSIVE\")\n",
    "\n",
    "            previous_mi = current_mi\n",
    "              \n",
    "        # Validation\n",
    "        vae.eval()\n",
    "        with torch.no_grad():\n",
    "            # NOTE!! if we want to do 100% dropout then we should also add it here.\n",
    "            val_loss, val_kl, val_ppl = test_vae(vae, validation_inputs, validation_targets, val_input_lens, synthetic, annealing_args)\n",
    "            loss, kl, ppl = test_vae(vae, inputs, targets, input_lens, synthetic, annealing_args)\n",
    "            total_epoch_losses.append(loss)\n",
    "            val_total_epoch_losses.append(val_loss)\n",
    "            kl_losses.append(kl)\n",
    "            val_kl_losses.append(val_kl)\n",
    "            if verbose:\n",
    "                print ('Epoch [{}/{}], Training Loss: {:.4f},  Training KL: {:.4f}, Training Perplexity: {:5.2f}, Validation Loss: {:.4f}, KL {:.4f}, Val Perplexity: {:5.2f}\\n'\n",
    "                       .format(epoch + 1, epochs, loss, kl, ppl, val_loss, val_kl, val_ppl))\n",
    "            if plot:\n",
    "                plot_mean_space(step, latent_size, vae, tracked_inputs, tracked_targets, \n",
    "                                lim=plot_lim, iteration=iteration, plot_dir=plot_dir)\n",
    "                \n",
    "            if val_loss > opt_dict[\"best_loss\"]:\n",
    "                opt_dict[\"not_improved\"] += 1\n",
    "                if opt_dict[\"not_improved\"] >= decay_epoch:\n",
    "                    opt_dict[\"best_loss\"] = val_loss\n",
    "                    opt_dict[\"not_improved\"] = 0\n",
    "                    opt_dict[\"lr\"] = opt_dict[\"lr\"] * lr_decay\n",
    "                    #vae.load_state_dict(torch.load(args.save_path))\n",
    "                    print('new lr: %f' % opt_dict[\"lr\"])\n",
    "                    decay_cnt += 1\n",
    "                    \n",
    "                    enc_optimizer = torch.optim.Adam(vae.encoder.parameters(), lr=opt_dict[\"lr\"])\n",
    "                    stoch_enc_optimizer = torch.optim.Adam(vae.stochastic_encoder.parameters(), lr=opt_dict[\"lr\"])\n",
    "                    stoch_dec_optimizer = torch.optim.Adam(vae.stochastic_decoder.parameters(), lr=opt_dict[\"lr\"])\n",
    "                    dec_optimizer = torch.optim.Adam(vae.decoder.parameters(), lr=opt_dict[\"lr\"])\n",
    "    \n",
    "            else:\n",
    "                opt_dict[\"not_improved\"] = 0\n",
    "                opt_dict[\"best_loss\"] = val_loss\n",
    "            \n",
    "            if decay_cnt == max_decay:\n",
    "                break\n",
    "        vae.train()\n",
    "    \n",
    "    return_dict = {}\n",
    "    return_dict['total_epoch_losses'] = np.array(total_epoch_losses)\n",
    "    return_dict['val_total_epoch_losses'] = np.array(val_total_epoch_losses)\n",
    "    return_dict['kl_losses'] = np.array(kl_losses)\n",
    "    return_dict['val_kl_losses'] = np.array(val_kl_losses)\n",
    "\n",
    "    if annealing_args is not None:\n",
    "        return_dict['kl_terms'] = np.array(kl_terms)\n",
    "        return_dict['kl_weights'] = np.array(kl_weights)\n",
    "    \n",
    "    return return_dict\n",
    "        \n",
    "def test_vae(vae, inputs, targets, input_lens, synthetic=False, annealing_args=None):\n",
    "    kl_loss = ce_loss = 0\n",
    "    num_words = num_sents = 0\n",
    "    for i in np.random.permutation(len(inputs)):\n",
    "        x = inputs[i]\n",
    "        y = torch.tensor(targets[i].reshape(-1), dtype=torch.long)\n",
    "        x_lens = input_lens[i] if not synthetic else None\n",
    "\n",
    "        batch_size, sents_len, _ = x.shape\n",
    "        if synthetic:\n",
    "            num_words += batch_size * sents_len\n",
    "        else:\n",
    "            num_words = np.sum(x_lens)\n",
    "        \n",
    "        num_sents += batch_size\n",
    "        \n",
    "        mask = None\n",
    "        mean, log_variance, outputs = vae(x, x_lens=x_lens)\n",
    "        if not synthetic:\n",
    "            mask = (y < padding_index)\n",
    "            outputs = outputs[mask]\n",
    "            y = y[mask]\n",
    "\n",
    "        loss_summary = loss_function(outputs, y, mean, log_variance, max_sentence_length, annealing_args=annealing_args, mask=mask)\n",
    "\n",
    "        loss_rc = np.sum(loss_summary[1].data.numpy())\n",
    "        loss_kl = np.sum(loss_summary[3].data.numpy())\n",
    "        \n",
    "        ce_loss += loss_rc.item()\n",
    "        kl_loss += loss_kl.item()\n",
    "\n",
    "    #mutual_info = calc_mi(model, test_data_batch)\n",
    "\n",
    "    loss = (kl_loss + ce_loss) / num_sents\n",
    "    kl = kl_loss / num_sents\n",
    "    ppl = np.exp(loss * num_sents / num_words)\n",
    "\n",
    "    return loss, kl, ppl\n",
    "\n",
    "    \n",
    "def calc_mi(model, test_data_batch):\n",
    "    mi = 0\n",
    "    num_examples = 0\n",
    "    for batch_data in test_data_batch:\n",
    "        batch_size = batch_data.shape[0]\n",
    "        num_examples += batch_size\n",
    "        mutual_info = model.calc_mi(batch_data)\n",
    "        mi += mutual_info * batch_size\n",
    "\n",
    "    return mi / num_examples"
   ]
  },
  {
   "cell_type": "code",
   "execution_count": 38,
   "metadata": {},
   "outputs": [],
   "source": [
    "def hist_active_units(vae, train_inputs, train_lengths=None):\n",
    "    all_mus = None\n",
    "    for i in range(len(train_inputs)):\n",
    "        mus, _, _ = vae.forward(train_inputs[i], train_lengths[i] if train_lengths is not None else None)\n",
    "        mus = mus.squeeze(0)\n",
    "        if all_mus is None:\n",
    "            all_mus = mus.detach().numpy()\n",
    "        else:\n",
    "            all_mus = np.vstack((mus.detach().numpy(), all_mus))\n",
    "    plt.hist(np.var(all_mus, axis=0), bins=50)\n",
    "    plt.show()\n",
    "    return all_mus"
   ]
  },
  {
   "cell_type": "markdown",
   "metadata": {
    "colab_type": "text",
    "id": "pGrpkEVJbZL6"
   },
   "source": [
    "## Load data"
   ]
  },
  {
   "cell_type": "code",
   "execution_count": 14,
   "metadata": {
    "colab": {},
    "colab_type": "code",
    "id": "-g1xoseTbZL7"
   },
   "outputs": [],
   "source": [
    "test_syn_data = np.loadtxt('synthetic-data/synthetic_test.txt', dtype=int)\n",
    "train_syn_data = np.loadtxt('synthetic-data/synthetic_train.txt', dtype=int)"
   ]
  },
  {
   "cell_type": "code",
   "execution_count": 15,
   "metadata": {
    "colab": {},
    "colab_type": "code",
    "id": "EZfk9HgrbZL-"
   },
   "outputs": [],
   "source": [
    "batch_size = 16\n",
    "\n",
    "# load tracked inputs (for plotting)\n",
    "random_indices = np.random.choice(train_syn_data.shape[0], 500)\n",
    "tracked_inputs = []\n",
    "tracked_targets = []\n",
    "for random_index in random_indices:\n",
    "    tracked_inputs.append(train_syn_data[random_index, :-1])\n",
    "    tracked_targets.append(train_syn_data[random_index, 1:])\n",
    "tracked_inputs = np.expand_dims(np.array(tracked_inputs), axis=-1)\n",
    "tracked_targets = np.expand_dims(np.array(tracked_targets), axis=-1)\n",
    "\n",
    "# load data into batches\n",
    "inputs, targets = get_batches_synthetic(train_syn_data, batch_size)\n",
    "val_inputs, val_targets = get_batches_synthetic(test_syn_data[:2000], batch_size)\n",
    "test_inputs, test_targets = get_batches_synthetic(test_syn_data[2000:], batch_size)"
   ]
  },
  {
   "cell_type": "markdown",
   "metadata": {
    "colab_type": "text",
    "id": "m6IIuzUnbZMh"
   },
   "source": [
    "## Experiment 1: default parameters"
   ]
  },
  {
   "cell_type": "code",
   "execution_count": 53,
   "metadata": {},
   "outputs": [],
   "source": [
    "vocab_size = 1000\n",
    "hidden_size = 50\n",
    "embedding_size = 50\n",
    "latent_size = 1\n",
    "num_layers = 1\n",
    "step = 0.25\n",
    "max_sentence_length = 10"
   ]
  },
  {
   "cell_type": "code",
   "execution_count": 43,
   "metadata": {},
   "outputs": [],
   "source": [
    "models_default = {}"
   ]
  },
  {
   "cell_type": "markdown",
   "metadata": {},
   "source": [
    "### Basic"
   ]
  },
  {
   "cell_type": "code",
   "execution_count": null,
   "metadata": {
    "colab": {},
    "colab_type": "code",
    "id": "7Hzwy-xKbZMi",
    "outputId": "a9700e02-3f3d-4483-8b56-25bb821067e3",
    "scrolled": true
   },
   "outputs": [
    {
     "data": {
      "image/png": "[encoded data removed]",
      "text/plain": [
       "<Figure size 288x288 with 1 Axes>"
      ]
     },
     "metadata": {
      "needs_background": "light"
     },
     "output_type": "display_data"
    },
    {
     "name": "stdout",
     "output_type": "stream",
     "text": [
      "epoch 1 iteration 0 loss 62.159 CE 62.159 KL 0.000 weighted KL: 0.000 weight 1.000\n",
      "epoch 1 iteration 100 loss 39.133 CE 39.132 KL 0.001 weighted KL: 0.001 weight 1.000\n",
      "epoch 1 iteration 200 loss 33.431 CE 33.430 KL 0.001 weighted KL: 0.001 weight 1.000\n",
      "epoch 1 iteration 300 loss 35.642 CE 35.638 KL 0.004 weighted KL: 0.004 weight 1.000\n",
      "epoch 1 iteration 400 loss 31.845 CE 31.845 KL 0.000 weighted KL: 0.000 weight 1.000\n",
      "epoch 1 iteration 500 loss 35.200 CE 35.200 KL 0.001 weighted KL: 0.001 weight 1.000\n",
      "epoch 1 iteration 600 loss 29.752 CE 29.752 KL 0.000 weighted KL: 0.000 weight 1.000\n",
      "epoch 1 iteration 700 loss 34.938 CE 34.937 KL 0.000 weighted KL: 0.000 weight 1.000\n",
      "epoch 1 iteration 800 loss 33.733 CE 33.733 KL 0.000 weighted KL: 0.000 weight 1.000\n",
      "epoch 1 iteration 900 loss 36.101 CE 36.100 KL 0.001 weighted KL: 0.001 weight 1.000\n",
      "Epoch [1/30], Training Loss: 32.7088,  Training KL: 0.0580, Training Perplexity: 37.88, Validation Loss: 37.7764, KL 0.0580, Val Perplexity: 66.51\n",
      "\n"
     ]
    },
    {
     "data": {
      "image/png": "[encoded data removed]",
      "text/plain": [
       "<Figure size 288x288 with 1 Axes>"
      ]
     },
     "metadata": {
      "needs_background": "light"
     },
     "output_type": "display_data"
    },
    {
     "name": "stdout",
     "output_type": "stream",
     "text": [
      "epoch 2 iteration 1000 loss 30.352 CE 30.294 KL 0.058 weighted KL: 0.058 weight 1.000\n",
      "epoch 2 iteration 1100 loss 30.740 CE 30.740 KL 0.001 weighted KL: 0.001 weight 1.000\n",
      "epoch 2 iteration 1200 loss 32.213 CE 32.213 KL 0.000 weighted KL: 0.000 weight 1.000\n",
      "epoch 2 iteration 1300 loss 32.985 CE 32.978 KL 0.007 weighted KL: 0.007 weight 1.000\n",
      "epoch 2 iteration 1400 loss 35.260 CE 35.260 KL 0.000 weighted KL: 0.000 weight 1.000\n",
      "epoch 2 iteration 1500 loss 31.629 CE 31.628 KL 0.001 weighted KL: 0.001 weight 1.000\n",
      "epoch 2 iteration 1600 loss 33.621 CE 33.621 KL 0.000 weighted KL: 0.000 weight 1.000\n",
      "epoch 2 iteration 1700 loss 33.055 CE 33.055 KL 0.000 weighted KL: 0.000 weight 1.000\n",
      "epoch 2 iteration 1800 loss 31.350 CE 31.350 KL 0.000 weighted KL: 0.000 weight 1.000\n",
      "epoch 2 iteration 1900 loss 31.495 CE 31.495 KL 0.000 weighted KL: 0.000 weight 1.000\n",
      "Epoch [2/30], Training Loss: 31.7914,  Training KL: 0.0010, Training Perplexity: 34.21, Validation Loss: 38.1451, KL 0.0010, Val Perplexity: 69.29\n",
      "\n"
     ]
    },
    {
     "data": {
      "image/png": "[encoded data removed]",
      "text/plain": [
       "<Figure size 288x288 with 1 Axes>"
      ]
     },
     "metadata": {
      "needs_background": "light"
     },
     "output_type": "display_data"
    },
    {
     "name": "stdout",
     "output_type": "stream",
     "text": [
      "epoch 3 iteration 2000 loss 32.637 CE 32.636 KL 0.001 weighted KL: 0.001 weight 1.000\n",
      "epoch 3 iteration 2100 loss 29.881 CE 29.881 KL 0.000 weighted KL: 0.000 weight 1.000\n",
      "epoch 3 iteration 2200 loss 35.630 CE 35.630 KL 0.000 weighted KL: 0.000 weight 1.000\n",
      "epoch 3 iteration 2300 loss 30.997 CE 30.996 KL 0.001 weighted KL: 0.001 weight 1.000\n",
      "epoch 3 iteration 2400 loss 29.104 CE 29.104 KL 0.000 weighted KL: 0.000 weight 1.000\n",
      "epoch 3 iteration 2500 loss 33.747 CE 33.744 KL 0.003 weighted KL: 0.003 weight 1.000\n",
      "epoch 3 iteration 2600 loss 33.878 CE 33.878 KL 0.000 weighted KL: 0.000 weight 1.000\n",
      "epoch 3 iteration 2700 loss 30.679 CE 30.678 KL 0.000 weighted KL: 0.000 weight 1.000\n",
      "epoch 3 iteration 2800 loss 34.245 CE 34.245 KL 0.000 weighted KL: 0.000 weight 1.000\n",
      "epoch 3 iteration 2900 loss 31.475 CE 31.474 KL 0.001 weighted KL: 0.001 weight 1.000\n",
      "Epoch [3/30], Training Loss: 31.2109,  Training KL: 0.0000, Training Perplexity: 32.07, Validation Loss: 37.9377, KL 0.0000, Val Perplexity: 67.71\n",
      "\n"
     ]
    },
    {
     "data": {
      "image/png": "[encoded data removed]",
      "text/plain": [
       "<Figure size 288x288 with 1 Axes>"
      ]
     },
     "metadata": {
      "needs_background": "light"
     },
     "output_type": "display_data"
    },
    {
     "name": "stdout",
     "output_type": "stream",
     "text": [
      "new lr: 0.025000\n",
      "epoch 4 iteration 3000 loss 31.160 CE 31.160 KL 0.000 weighted KL: 0.000 weight 1.000\n",
      "epoch 4 iteration 3100 loss 30.255 CE 30.250 KL 0.005 weighted KL: 0.005 weight 1.000\n",
      "epoch 4 iteration 3200 loss 28.860 CE 28.860 KL 0.000 weighted KL: 0.000 weight 1.000\n",
      "epoch 4 iteration 3300 loss 29.742 CE 29.742 KL 0.000 weighted KL: 0.000 weight 1.000\n",
      "epoch 4 iteration 3400 loss 31.636 CE 31.636 KL 0.000 weighted KL: 0.000 weight 1.000\n",
      "epoch 4 iteration 3500 loss 29.534 CE 29.534 KL 0.000 weighted KL: 0.000 weight 1.000\n",
      "epoch 4 iteration 3600 loss 38.877 CE 38.877 KL 0.000 weighted KL: 0.000 weight 1.000\n",
      "epoch 4 iteration 3700 loss 30.247 CE 30.247 KL 0.000 weighted KL: 0.000 weight 1.000\n",
      "epoch 4 iteration 3800 loss 32.252 CE 32.252 KL 0.000 weighted KL: 0.000 weight 1.000\n",
      "epoch 4 iteration 3900 loss 28.045 CE 28.045 KL 0.000 weighted KL: 0.000 weight 1.000\n",
      "Epoch [4/30], Training Loss: 30.5680,  Training KL: 0.0318, Training Perplexity: 29.86, Validation Loss: 37.9582, KL 0.0318, Val Perplexity: 67.87\n",
      "\n"
     ]
    },
    {
     "data": {
      "image/png": "[encoded data removed]",
      "text/plain": [
       "<Figure size 288x288 with 1 Axes>"
      ]
     },
     "metadata": {
      "needs_background": "light"
     },
     "output_type": "display_data"
    },
    {
     "name": "stdout",
     "output_type": "stream",
     "text": [
      "epoch 5 iteration 4000 loss 33.149 CE 33.118 KL 0.032 weighted KL: 0.032 weight 1.000\n",
      "epoch 5 iteration 4100 loss 33.054 CE 33.054 KL 0.000 weighted KL: 0.000 weight 1.000\n",
      "epoch 5 iteration 4200 loss 28.593 CE 28.593 KL 0.000 weighted KL: 0.000 weight 1.000\n",
      "epoch 5 iteration 4300 loss 28.551 CE 28.551 KL 0.000 weighted KL: 0.000 weight 1.000\n",
      "epoch 5 iteration 4400 loss 32.992 CE 32.991 KL 0.002 weighted KL: 0.002 weight 1.000\n",
      "epoch 5 iteration 4500 loss 32.836 CE 32.836 KL 0.000 weighted KL: 0.000 weight 1.000\n",
      "epoch 5 iteration 4600 loss 29.978 CE 29.978 KL 0.000 weighted KL: 0.000 weight 1.000\n",
      "epoch 5 iteration 4700 loss 31.431 CE 31.431 KL 0.000 weighted KL: 0.000 weight 1.000\n",
      "epoch 5 iteration 4800 loss 33.886 CE 33.886 KL 0.000 weighted KL: 0.000 weight 1.000\n",
      "epoch 5 iteration 4900 loss 29.765 CE 29.765 KL 0.000 weighted KL: 0.000 weight 1.000\n",
      "Epoch [5/30], Training Loss: 30.1981,  Training KL: 0.0000, Training Perplexity: 28.66, Validation Loss: 37.9761, KL 0.0000, Val Perplexity: 68.00\n",
      "\n"
     ]
    }
   ],
   "source": [
    "epochs = 30\n",
    "learning_rate = 0.05\n",
    "plot_dir = \"plots_basic_default\"\n",
    "\n",
    "embedding_weights = nn.Embedding(vocab_size, embedding_size).weight\n",
    "vae = VAE(hidden_size, num_layers, embedding_weights, latent_size, synthetic=True)\n",
    "\n",
    "return_dict_basic_default = train(vae, inputs, targets, val_inputs, val_inputs, epochs, vocab_size, \n",
    "                                  hidden_size, latent_size, max_sentence_length, synthetic=True, \n",
    "                                  learning_rate=learning_rate, step=step, tracked_inputs=tracked_inputs, \n",
    "                                  tracked_targets=tracked_targets, plot_lim=1.5, verbose=True, plot=True, \n",
    "                                  plot_dir=plot_dir)\n",
    "models_default['basic'] = vae\n",
    "test_loss, test_kl, test_ppl = test_vae(vae, test_inputs, test_targets, None, synthetic=True)\n",
    "print(\"test loss: {:.4f}, test KL: {:.4f}, test perplexity: {:.4f}\".format(test_loss, test_kl, test_ppl))\n",
    "mi_train = calc_mi(vae, inputs)\n",
    "mi_test = calc_mi(vae, test_inputs)\n",
    "print(\"mutual information: train {}, test {}\".format(mi_train, mi_test))"
   ]
  },
  {
   "cell_type": "markdown",
   "metadata": {},
   "source": [
    "### Annealing"
   ]
  },
  {
   "cell_type": "code",
   "execution_count": null,
   "metadata": {
    "colab": {},
    "colab_type": "code",
    "id": "BSToDB3RbZMl",
    "scrolled": true
   },
   "outputs": [],
   "source": [
    "epochs = 30\n",
    "learning_rate = 0.05\n",
    "plot_dir = \"plots_anneal_default\"\n",
    "\n",
    "embedding_weights = nn.Embedding(vocab_size, embedding_size).weight\n",
    "vae = VAE(hidden_size, num_layers, embedding_weights, latent_size, synthetic=True)\n",
    "\n",
    "annealing_args = {'type':'logistic', 'step':0, 'k':0.0025, 'first_step':2500}\n",
    "\n",
    "return_dict_anneal_default = train(vae, inputs, targets, val_inputs, val_targets, epochs, \n",
    "                                   vocab_size, hidden_size, latent_size, max_sentence_length, plot=True, \n",
    "                                   learning_rate=learning_rate, synthetic=True, step=step, plot_lim=1.5, \n",
    "                                   annealing_args=annealing_args, tracked_inputs=tracked_inputs, \n",
    "                                   tracked_targets=tracked_targets, plot_dir=plot_dir)\n",
    "plot_kl(return_dict_anneal_default['kl_terms'], return_dict_anneal_default['kl_weights'], \n",
    "        save=True, plot_dir=plot_dir)\n",
    "models_default['annealing'] = vae\n",
    "test_loss, test_kl, test_ppl = test_vae(vae, test_inputs, test_targets, None, synthetic=True)\n",
    "print(\"test loss: {:.4f}, test KL: {:.4f}, test perplexity: {:.4f}\".format(test_loss, test_kl, test_ppl))"
   ]
  },
  {
   "cell_type": "markdown",
   "metadata": {},
   "source": [
    "### Aggressive"
   ]
  },
  {
   "cell_type": "code",
   "execution_count": null,
   "metadata": {
    "colab": {
     "base_uri": "https://localhost:8080/",
     "height": 6038
    },
    "colab_type": "code",
    "id": "RvITCzNRbZMn",
    "outputId": "29295924-4ea6-47a2-b5cb-ecc92f22c8d4",
    "scrolled": true
   },
   "outputs": [],
   "source": [
    "epochs = 30\n",
    "learning_rate = 0.05\n",
    "plot_dir = \"plots_aggressive_default\"\n",
    "\n",
    "embedding_weights = nn.Embedding(vocab_size, embedding_size).weight\n",
    "vae = VAE(hidden_size, num_layers, embedding_weights, latent_size, synthetic=True)\n",
    "\n",
    "return_dict_aggressive_default = train(vae, inputs, targets, val_inputs, val_targets, \n",
    "                                       epochs, vocab_size, hidden_size, latent_size, max_sentence_length, \n",
    "                                       plot=True, learning_rate=learning_rate, synthetic=True, step=step, \n",
    "                                       tracked_inputs=tracked_inputs, tracked_targets=tracked_targets, \n",
    "                                       plot_lim=1.5, is_aggressive=True, plot_dir=plot_dir)\n",
    "models_default['aggressive'] = vae\n",
    "test_loss, test_kl, test_ppl = test_vae(vae, test_inputs, test_targets, None, synthetic=True)\n",
    "print(\"test loss: {:.4f}, test KL: {:.4f}, test perplexity: {:.4f}\".format(test_loss, test_kl, test_ppl))"
   ]
  },
  {
   "cell_type": "markdown",
   "metadata": {},
   "source": [
    "### Calculate mutual information"
   ]
  },
  {
   "cell_type": "code",
   "execution_count": 48,
   "metadata": {},
   "outputs": [
    {
     "data": {
      "image/png": "[encoded data removed]",
      "text/plain": [
       "<Figure size 432x288 with 1 Axes>"
      ]
     },
     "metadata": {
      "needs_background": "light"
     },
     "output_type": "display_data"
    },
    {
     "data": {
      "image/png": "[encoded data removed]",
      "text/plain": [
       "<Figure size 432x288 with 1 Axes>"
      ]
     },
     "metadata": {
      "needs_background": "light"
     },
     "output_type": "display_data"
    }
   ],
   "source": [
    "all_mus = hist_active_units(models_default['basic'], inputs)\n",
    "all_mus = hist_active_units(models_default['basic'], test_inputs)"
   ]
  },
  {
   "cell_type": "code",
   "execution_count": null,
   "metadata": {},
   "outputs": [],
   "source": [
    "all_mus = hist_active_units(models_default['annealing'], inputs)\n",
    "all_mus = hist_active_units(models_default['annealing'], test_inputs)"
   ]
  },
  {
   "cell_type": "code",
   "execution_count": null,
   "metadata": {},
   "outputs": [],
   "source": [
    "all_mus = hist_active_units(models_default['aggressive'], inputs)\n",
    "all_mus = hist_active_units(models_default['aggressive'], test_inputs)"
   ]
  },
  {
   "cell_type": "markdown",
   "metadata": {},
   "source": [
    "## Experiment 2: ?"
   ]
  },
  {
   "cell_type": "code",
   "execution_count": null,
   "metadata": {
    "scrolled": false
   },
   "outputs": [],
   "source": [
    "#with annealing\n",
    "vocab_size = 1000\n",
    "hidden_size = 50\n",
    "embedding_size = 50\n",
    "latent_size = 1\n",
    "num_layers = 1\n",
    "step = 0.25\n",
    "learning_rate = 0.05\n",
    "epochs = 30\n",
    "max_sentence_length = 10\n",
    "\n",
    "ks = [0.0005, 0.0025, 0.005]\n",
    "first_steps = [0, 2500, 5000]\n",
    "return_dicts = {}\n",
    "\n",
    "for k in ks:\n",
    "    for first_step in first_steps:\n",
    "        print(\"hyperparameter setting: k={}, first_step={}\".format(k, first_step))\n",
    "        string_rep = \"annealing_{}_{}\".format(str(k).replace(\".\", \"\"), first_step)\n",
    "\n",
    "        embedding_weights = nn.Embedding(vocab_size, embedding_size).weight\n",
    "        vae_anneal_new = VAE(hidden_size, num_layers, embedding_weights, latent_size, synthetic=True)\n",
    "\n",
    "        annealing_args = {'type':'logistic', 'step':0, 'k':k, 'first_step':first_step}\n",
    "        return_dict = train(vae_anneal_new, inputs, targets, val_inputs, val_targets, epochs, vocab_size, hidden_size, \n",
    "                            latent_size, max_sentence_length, plot=True, learning_rate=learning_rate, synthetic=True, \n",
    "                            step=step, plot_lim=1.5, annealing_args=annealing_args, tracked_inputs=tracked_inputs, \n",
    "                            tracked_targets=tracked_targets, plot_dir=\"plots_{}\".format(string_rep))\n",
    "        plot_kl(return_dict['kl_terms'], return_dict['kl_weights'], save=True, plot_dir=\"plots_{}\".format(string_rep))\n",
    "        return_dicts[string_rep] = return_dict"
   ]
  },
  {
   "cell_type": "code",
   "execution_count": null,
   "metadata": {},
   "outputs": [],
   "source": []
  }
 ],
 "metadata": {
  "colab": {
   "name": "refactored-workspace-text.ipynb",
   "provenance": [],
   "toc_visible": true,
   "version": "0.3.2"
  },
  "kernelspec": {
   "display_name": "Python 3",
   "language": "python",
   "name": "python3"
  },
  "language_info": {
   "codemirror_mode": {
    "name": "ipython",
    "version": 3
   },
   "file_extension": ".py",
   "mimetype": "text/x-python",
   "name": "python",
   "nbconvert_exporter": "python",
   "pygments_lexer": "ipython3",
   "version": "3.7.3"
  }
 },
 "nbformat": 4,
 "nbformat_minor": 1
}
