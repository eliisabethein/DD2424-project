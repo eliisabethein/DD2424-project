{
 "cells": [
  {
   "cell_type": "code",
   "execution_count": 1,
   "metadata": {},
   "outputs": [],
   "source": [
    "import json\n",
    "import nltk\n",
    "import torch\n",
    "import torch.nn as nn\n",
    "import torch.nn.functional as F\n",
    "import torch.optim as optim\n",
    "import torch.distributions.normal as normal\n",
    "import numpy as np\n",
    "from scipy.stats import norm\n",
    "import matplotlib.pyplot as plt\n",
    "\n",
    "from torch.nn.utils import clip_grad_norm_\n",
    "from torch.nn.utils.rnn import pack_padded_sequence, pad_packed_sequence\n",
    "from nltk.tokenize import word_tokenize\n",
    "from nltk.tokenize import MWETokenizer\n",
    "\n",
    "from gensim.models import Word2Vec"
   ]
  },
  {
   "cell_type": "code",
   "execution_count": 2,
   "metadata": {},
   "outputs": [
    {
     "data": {
      "text/plain": [
       "<torch._C.Generator at 0x25cd9922fb0>"
      ]
     },
     "execution_count": 2,
     "metadata": {},
     "output_type": "execute_result"
    }
   ],
   "source": [
    "torch.manual_seed(1)"
   ]
  },
  {
   "cell_type": "code",
   "execution_count": 3,
   "metadata": {},
   "outputs": [
    {
     "name": "stderr",
     "output_type": "stream",
     "text": [
      "[nltk_data] Downloading package punkt to C:\\Users\\Mihaela\n",
      "[nltk_data]     Stoycheva\\AppData\\Roaming\\nltk_data...\n",
      "[nltk_data]   Package punkt is already up-to-date!\n"
     ]
    },
    {
     "data": {
      "text/plain": [
       "True"
      ]
     },
     "execution_count": 3,
     "metadata": {},
     "output_type": "execute_result"
    }
   ],
   "source": [
    "nltk.download('punkt')"
   ]
  },
  {
   "cell_type": "markdown",
   "metadata": {},
   "source": [
    "### Load data"
   ]
  },
  {
   "cell_type": "code",
   "execution_count": 9,
   "metadata": {},
   "outputs": [],
   "source": [
    "def load_data(filename, max_sentence_len):\n",
    "    # the tokenizer splits <unk> so we use MWETokenizer to re-merge it\n",
    "    data_original = []\n",
    "    data_padded = []\n",
    "    with open(filename) as f:\n",
    "        for line in f:\n",
    "            sentence, padded_sentence = tokenize_sentence(line, max_sentence_len)\n",
    "            data_original.append(sentence)\n",
    "            data_padded.append(padded_sentence)\n",
    "    \n",
    "    return data_original, data_padded\n",
    "\n",
    "def tokenize_sentence(string, max_sentence_len):\n",
    "    merger = MWETokenizer([('<', 'unk', '>')], separator = '') \n",
    "    sentence = word_tokenize(string.strip())       # tokenize sentence\n",
    "    sentence = merger.tokenize(sentence)         # merge <unk>\n",
    "    sentence = sentence[:max_sentence_len - 2]   # cut sentence at max_sentence_length\n",
    "    sentence = ['<sos>'] + sentence + ['<eos>']  # add start and end-of-sentence tags\n",
    "\n",
    "    # pad the rest of the sentence\n",
    "    padded_sentence = sentence.copy()\n",
    "    padded_sentence.extend(['<pad>']*(max_sentence_len - len(sentence))) \n",
    "    \n",
    "    return sentence, padded_sentence"
   ]
  },
  {
   "cell_type": "code",
   "execution_count": 10,
   "metadata": {},
   "outputs": [],
   "source": [
    "max_sentence_length = 50\n",
    "train_data, train_data_padded = load_data(\"data/ptb.train.txt\", max_sentence_length)\n",
    "val_data, val_data_padded = load_data(\"data/ptb.valid.txt\", max_sentence_length)\n",
    "test_data, test_data_padded = load_data(\"data/ptb.test.txt\", max_sentence_length)"
   ]
  },
  {
   "cell_type": "markdown",
   "metadata": {},
   "source": [
    "### Create Word2Vec word embeddings"
   ]
  },
  {
   "cell_type": "code",
   "execution_count": 6,
   "metadata": {},
   "outputs": [],
   "source": [
    "embedding_size = 500\n",
    "num_epochs_to_train = 10"
   ]
  },
  {
   "cell_type": "code",
   "execution_count": 7,
   "metadata": {},
   "outputs": [
    {
     "data": {
      "text/plain": [
       "(6666616, 9696000)"
      ]
     },
     "execution_count": 7,
     "metadata": {},
     "output_type": "execute_result"
    }
   ],
   "source": [
    "word2vec_model = Word2Vec(train_data, min_count=1, size=embedding_size, window=5)\n",
    "word2vec_model.train(train_data, epochs=num_epochs_to_train, total_examples=word2vec_model.corpus_count)"
   ]
  },
  {
   "cell_type": "code",
   "execution_count": 8,
   "metadata": {},
   "outputs": [
    {
     "data": {
      "text/plain": [
       "[('issues', 0.7121069431304932),\n",
       " ('stock-index', 0.691788911819458),\n",
       " ('traders', 0.6770775318145752),\n",
       " ('index', 0.6716479063034058),\n",
       " ('nasdaq', 0.6556688547134399),\n",
       " ('investors', 0.6482288837432861),\n",
       " ('trades', 0.6452388763427734),\n",
       " ('futures', 0.6339257955551147),\n",
       " ('selling', 0.6047229170799255),\n",
       " ('stock-market', 0.6016063690185547)]"
      ]
     },
     "execution_count": 8,
     "metadata": {},
     "output_type": "execute_result"
    }
   ],
   "source": [
    "word2vec_model.wv.most_similar(\"stocks\")\n",
    "# word2vec_model.wv['credit']"
   ]
  },
  {
   "cell_type": "code",
   "execution_count": 9,
   "metadata": {},
   "outputs": [
    {
     "name": "stdout",
     "output_type": "stream",
     "text": [
      "size of the vocabulary: 10005\n"
     ]
    }
   ],
   "source": [
    "vocabulary_size = len(word2vec_model.wv.vocab)\n",
    "print(\"size of the vocabulary:\", vocabulary_size)"
   ]
  },
  {
   "cell_type": "markdown",
   "metadata": {},
   "source": [
    "### Split data into batches"
   ]
  },
  {
   "cell_type": "code",
   "execution_count": 10,
   "metadata": {},
   "outputs": [],
   "source": [
    "def get_batches(data, data_padded, batch_size, pad_index, word2vec_model):\n",
    "    inputs = []\n",
    "    targets = []\n",
    "    lengths = []\n",
    "    for i in range(len(data) // batch_size):\n",
    "        # take batch_size sentences from the data each time\n",
    "        batch_sentences = data[i*batch_size:(i+1)*batch_size]\n",
    "        batch_sentence_lens = [len(x) for x in batch_sentences]\n",
    "        \n",
    "        # sentences in a batch have to be sorted in decreasing order of length (for pack_padded_sentence)\n",
    "        sorted_pairs = sorted(zip(batch_sentence_lens,batch_sentences), reverse=True)\n",
    "        batch_sentences = [sentence for length, sentence in sorted_pairs]\n",
    "        batch_sentence_lens = [length-1 for length, sentence in sorted_pairs]\n",
    "        \n",
    "        # each input and target is a (batch_size x max_sentence_len-1 x 1) matrix\n",
    "        # initially filled with the index for padditng tag <pad>\n",
    "        input_batch = np.ones((batch_size, len(data_padded[0])-1, 1)) * pad_index\n",
    "        target_batch = np.ones((batch_size, len(data_padded[0])-1, 1)) * pad_index\n",
    "        \n",
    "        # for each sentence in the batch, fill the corresponding row in current_batch\n",
    "        # with the indexed of the words in the sentence (except for <pad>)\n",
    "        for j, sentence in enumerate(batch_sentences):\n",
    "            word_indexes = np.array([word2vec_model.wv.vocab[word].index for word in sentence])\n",
    "            input_batch[j,0:len(sentence)-1,0] = word_indexes[:-1]\n",
    "            target_batch[j,0:len(sentence)-1,0] = word_indexes[1:]\n",
    "        \n",
    "        # make the matrices into torch tensors and append\n",
    "#         inputs.append(torch.tensor(input_batch))\n",
    "#         targets.append(torch.tensor(target_batch))\n",
    "        inputs.append(input_batch)\n",
    "        targets.append(target_batch)\n",
    "        lengths.append(batch_sentence_lens)\n",
    "    return inputs, targets, lengths"
   ]
  },
  {
   "cell_type": "markdown",
   "metadata": {},
   "source": [
    "### Define RNNLM"
   ]
  },
  {
   "cell_type": "code",
   "execution_count": 11,
   "metadata": {},
   "outputs": [],
   "source": [
    "class RNNLM(nn.Module):\n",
    "    def __init__(self, vocabulary_size, embedding_size, hidden_size, num_layers, embedding_weights):\n",
    "        super(RNNLM, self).__init__()\n",
    "        self.embed = nn.Embedding.from_pretrained(embedding_weights)\n",
    "        self.lstm = nn.LSTM(embedding_size, hidden_size, num_layers, batch_first=True)\n",
    "        self.linear = nn.Linear(hidden_size, vocabulary_size)\n",
    "        self.embedding_size = embedding_size\n",
    "        \n",
    "    def forward(self, x, hidden, x_lens, train=True):\n",
    "        batch_size, max_len, _ = x.shape\n",
    "        embedding_dim = self.embedding_size\n",
    "\n",
    "        x = self.embed(torch.tensor(x, dtype=torch.long)).view(batch_size, max_len, embedding_dim)\n",
    "        if train:\n",
    "            x_lens = torch.tensor(x_lens, dtype=torch.long)\n",
    "            x = pack_padded_sequence(x, x_lens, batch_first=True)\n",
    "\n",
    "        out, hidden = self.lstm(x.float(), hidden) \n",
    "        \n",
    "        if train:\n",
    "            out, output_lens = pad_packed_sequence(out, batch_first=True, total_length=max_sentence_length-1)\n",
    "\n",
    "        out = out.reshape(out.size(0)*out.size(1), out.size(2))\n",
    "        out = self.linear(out)\n",
    "        \n",
    "        return out, hidden"
   ]
  },
  {
   "cell_type": "markdown",
   "metadata": {},
   "source": [
    "### Train RNNLM"
   ]
  },
  {
   "cell_type": "code",
   "execution_count": 4,
   "metadata": {},
   "outputs": [],
   "source": [
    "input_size = 100\n",
    "output_size = 100\n",
    "hidden_size = 50"
   ]
  },
  {
   "cell_type": "code",
   "execution_count": 5,
   "metadata": {},
   "outputs": [
    {
     "ename": "NameError",
     "evalue": "name 'vocabulary_size' is not defined",
     "output_type": "error",
     "traceback": [
      "\u001b[1;31m---------------------------------------------------------------------------\u001b[0m",
      "\u001b[1;31mNameError\u001b[0m                                 Traceback (most recent call last)",
      "\u001b[1;32m<ipython-input-5-e75f1685275d>\u001b[0m in \u001b[0;36m<module>\u001b[1;34m\u001b[0m\n\u001b[0;32m      1\u001b[0m \u001b[0mbatch_size\u001b[0m \u001b[1;33m=\u001b[0m \u001b[1;36m20\u001b[0m\u001b[1;33m\u001b[0m\u001b[0m\n\u001b[0;32m      2\u001b[0m \u001b[0muse_first_k\u001b[0m \u001b[1;33m=\u001b[0m \u001b[1;36m500\u001b[0m\u001b[1;33m\u001b[0m\u001b[0m\n\u001b[1;32m----> 3\u001b[1;33m \u001b[0mpadding_index\u001b[0m \u001b[1;33m=\u001b[0m \u001b[0mvocabulary_size\u001b[0m\u001b[1;33m\u001b[0m\u001b[0m\n\u001b[0m\u001b[0;32m      4\u001b[0m train_batches, train_targets, train_sentence_lens = get_batches(train_data[:use_first_k], train_data_padded[:use_first_k], \n\u001b[0;32m      5\u001b[0m                                                                 batch_size, padding_index, word2vec_model)\n",
      "\u001b[1;31mNameError\u001b[0m: name 'vocabulary_size' is not defined"
     ]
    }
   ],
   "source": [
    "batch_size = 20\n",
    "use_first_k = 500\n",
    "padding_index = vocabulary_size\n",
    "train_batches, train_targets, train_sentence_lens = get_batches(train_data[:use_first_k], train_data_padded[:use_first_k], \n",
    "                                                                batch_size, padding_index, word2vec_model)"
   ]
  },
  {
   "cell_type": "code",
   "execution_count": 6,
   "metadata": {},
   "outputs": [
    {
     "ename": "NameError",
     "evalue": "name 'word2vec_model' is not defined",
     "output_type": "error",
     "traceback": [
      "\u001b[1;31m---------------------------------------------------------------------------\u001b[0m",
      "\u001b[1;31mNameError\u001b[0m                                 Traceback (most recent call last)",
      "\u001b[1;32m<ipython-input-6-c8cac0d5a262>\u001b[0m in \u001b[0;36m<module>\u001b[1;34m\u001b[0m\n\u001b[0;32m      1\u001b[0m \u001b[1;31m# make the word embeddings into a pythorch tensor\u001b[0m\u001b[1;33m\u001b[0m\u001b[1;33m\u001b[0m\u001b[0m\n\u001b[1;32m----> 2\u001b[1;33m \u001b[0membedding_weights\u001b[0m \u001b[1;33m=\u001b[0m \u001b[0mword2vec_model\u001b[0m\u001b[1;33m.\u001b[0m\u001b[0mwv\u001b[0m\u001b[1;33m.\u001b[0m\u001b[0mvectors\u001b[0m\u001b[1;33m\u001b[0m\u001b[0m\n\u001b[0m\u001b[0;32m      3\u001b[0m \u001b[0membedding_weights\u001b[0m \u001b[1;33m=\u001b[0m \u001b[0mnp\u001b[0m\u001b[1;33m.\u001b[0m\u001b[0mvstack\u001b[0m\u001b[1;33m(\u001b[0m\u001b[1;33m(\u001b[0m\u001b[0membedding_weights\u001b[0m\u001b[1;33m,\u001b[0m \u001b[0mnp\u001b[0m\u001b[1;33m.\u001b[0m\u001b[0mzeros\u001b[0m\u001b[1;33m(\u001b[0m\u001b[1;33m(\u001b[0m\u001b[1;36m1\u001b[0m\u001b[1;33m,\u001b[0m\u001b[0membedding_size\u001b[0m\u001b[1;33m)\u001b[0m\u001b[1;33m)\u001b[0m\u001b[1;33m)\u001b[0m\u001b[1;33m)\u001b[0m  \u001b[1;31m# add zero vector for <pad>\u001b[0m\u001b[1;33m\u001b[0m\u001b[0m\n\u001b[0;32m      4\u001b[0m \u001b[0membedding_weights\u001b[0m \u001b[1;33m=\u001b[0m \u001b[0mtorch\u001b[0m\u001b[1;33m.\u001b[0m\u001b[0mtensor\u001b[0m\u001b[1;33m(\u001b[0m\u001b[0membedding_weights\u001b[0m\u001b[1;33m)\u001b[0m\u001b[1;33m\u001b[0m\u001b[0m\n",
      "\u001b[1;31mNameError\u001b[0m: name 'word2vec_model' is not defined"
     ]
    }
   ],
   "source": [
    "# make the word embeddings into a pythorch tensor\n",
    "embedding_weights = word2vec_model.wv.vectors\n",
    "embedding_weights = np.vstack((embedding_weights, np.zeros((1,embedding_size))))  # add zero vector for <pad>\n",
    "embedding_weights = torch.tensor(embedding_weights)"
   ]
  },
  {
   "cell_type": "code",
   "execution_count": 7,
   "metadata": {},
   "outputs": [],
   "source": [
    "learning_rate = 0.001\n",
    "num_layers = 1\n",
    "epochs = 10"
   ]
  },
  {
   "cell_type": "code",
   "execution_count": 76,
   "metadata": {},
   "outputs": [],
   "source": [
    "model = RNNLM(vocabulary_size, embedding_size, hidden_size, num_layers, embedding_weights)\n",
    "optimizer = torch.optim.Adam(model.parameters(), lr=learning_rate)"
   ]
  },
  {
   "cell_type": "code",
   "execution_count": 96,
   "metadata": {},
   "outputs": [
    {
     "name": "stdout",
     "output_type": "stream",
     "text": [
      "Epoch [1/10], Loss: 8.8069, Perplexity: 6680.21\n",
      "Epoch [2/10], Loss: 7.1356, Perplexity: 1255.87\n"
     ]
    },
    {
     "ename": "KeyboardInterrupt",
     "evalue": "",
     "output_type": "error",
     "traceback": [
      "\u001b[1;31m---------------------------------------------------------------------------\u001b[0m",
      "\u001b[1;31mKeyboardInterrupt\u001b[0m                         Traceback (most recent call last)",
      "\u001b[1;32m<ipython-input-96-5df6dd25208b>\u001b[0m in \u001b[0;36m<module>\u001b[1;34m\u001b[0m\n\u001b[0;32m     16\u001b[0m \u001b[1;33m\u001b[0m\u001b[0m\n\u001b[0;32m     17\u001b[0m         \u001b[0mmodel\u001b[0m\u001b[1;33m.\u001b[0m\u001b[0mzero_grad\u001b[0m\u001b[1;33m(\u001b[0m\u001b[1;33m)\u001b[0m\u001b[1;33m\u001b[0m\u001b[0m\n\u001b[1;32m---> 18\u001b[1;33m         \u001b[0mloss\u001b[0m\u001b[1;33m.\u001b[0m\u001b[0mbackward\u001b[0m\u001b[1;33m(\u001b[0m\u001b[1;33m)\u001b[0m\u001b[1;33m\u001b[0m\u001b[0m\n\u001b[0m\u001b[0;32m     19\u001b[0m         \u001b[0mclip_grad_norm_\u001b[0m\u001b[1;33m(\u001b[0m\u001b[0mmodel\u001b[0m\u001b[1;33m.\u001b[0m\u001b[0mparameters\u001b[0m\u001b[1;33m(\u001b[0m\u001b[1;33m)\u001b[0m\u001b[1;33m,\u001b[0m \u001b[1;36m0.5\u001b[0m\u001b[1;33m)\u001b[0m\u001b[1;33m\u001b[0m\u001b[0m\n\u001b[0;32m     20\u001b[0m         \u001b[0moptimizer\u001b[0m\u001b[1;33m.\u001b[0m\u001b[0mstep\u001b[0m\u001b[1;33m(\u001b[0m\u001b[1;33m)\u001b[0m\u001b[1;33m\u001b[0m\u001b[0m\n",
      "\u001b[1;32mc:\\program files\\python35\\lib\\site-packages\\torch\\tensor.py\u001b[0m in \u001b[0;36mbackward\u001b[1;34m(self, gradient, retain_graph, create_graph)\u001b[0m\n\u001b[0;32m    100\u001b[0m                 \u001b[0mproducts\u001b[0m\u001b[1;33m.\u001b[0m \u001b[0mDefaults\u001b[0m \u001b[0mto\u001b[0m\u001b[0;31m \u001b[0m\u001b[0;31m`\u001b[0m\u001b[0;31m`\u001b[0m\u001b[1;32mFalse\u001b[0m\u001b[0;31m`\u001b[0m\u001b[0;31m`\u001b[0m\u001b[1;33m.\u001b[0m\u001b[1;33m\u001b[0m\u001b[0m\n\u001b[0;32m    101\u001b[0m         \"\"\"\n\u001b[1;32m--> 102\u001b[1;33m         \u001b[0mtorch\u001b[0m\u001b[1;33m.\u001b[0m\u001b[0mautograd\u001b[0m\u001b[1;33m.\u001b[0m\u001b[0mbackward\u001b[0m\u001b[1;33m(\u001b[0m\u001b[0mself\u001b[0m\u001b[1;33m,\u001b[0m \u001b[0mgradient\u001b[0m\u001b[1;33m,\u001b[0m \u001b[0mretain_graph\u001b[0m\u001b[1;33m,\u001b[0m \u001b[0mcreate_graph\u001b[0m\u001b[1;33m)\u001b[0m\u001b[1;33m\u001b[0m\u001b[0m\n\u001b[0m\u001b[0;32m    103\u001b[0m \u001b[1;33m\u001b[0m\u001b[0m\n\u001b[0;32m    104\u001b[0m     \u001b[1;32mdef\u001b[0m \u001b[0mregister_hook\u001b[0m\u001b[1;33m(\u001b[0m\u001b[0mself\u001b[0m\u001b[1;33m,\u001b[0m \u001b[0mhook\u001b[0m\u001b[1;33m)\u001b[0m\u001b[1;33m:\u001b[0m\u001b[1;33m\u001b[0m\u001b[0m\n",
      "\u001b[1;32mc:\\program files\\python35\\lib\\site-packages\\torch\\autograd\\__init__.py\u001b[0m in \u001b[0;36mbackward\u001b[1;34m(tensors, grad_tensors, retain_graph, create_graph, grad_variables)\u001b[0m\n\u001b[0;32m     88\u001b[0m     Variable._execution_engine.run_backward(\n\u001b[0;32m     89\u001b[0m         \u001b[0mtensors\u001b[0m\u001b[1;33m,\u001b[0m \u001b[0mgrad_tensors\u001b[0m\u001b[1;33m,\u001b[0m \u001b[0mretain_graph\u001b[0m\u001b[1;33m,\u001b[0m \u001b[0mcreate_graph\u001b[0m\u001b[1;33m,\u001b[0m\u001b[1;33m\u001b[0m\u001b[0m\n\u001b[1;32m---> 90\u001b[1;33m         allow_unreachable=True)  # allow_unreachable flag\n\u001b[0m\u001b[0;32m     91\u001b[0m \u001b[1;33m\u001b[0m\u001b[0m\n\u001b[0;32m     92\u001b[0m \u001b[1;33m\u001b[0m\u001b[0m\n",
      "\u001b[1;31mKeyboardInterrupt\u001b[0m: "
     ]
    }
   ],
   "source": [
    "for epoch in range(epochs):\n",
    "    hidden = (torch.zeros(num_layers, batch_size, hidden_size), torch.zeros(num_layers, batch_size, hidden_size))\n",
    "    for i in range(len(train_batches)):\n",
    "        x = train_batches[i]\n",
    "        x_lens = train_sentence_lens[i]\n",
    "        y = torch.tensor(train_targets[i].reshape(-1), dtype=torch.long)   \n",
    "        h, c = hidden\n",
    "        h = h.detach()\n",
    "        c = c.detach()\n",
    "        hidden = (h, c)\n",
    "    \n",
    "        outputs, hidden = model(x, hidden, x_lens)\n",
    "        \n",
    "        mask = (y < padding_index)\n",
    "        loss = nn.CrossEntropyLoss()(outputs[mask], y[mask])\n",
    "\n",
    "        model.zero_grad()\n",
    "        loss.backward()\n",
    "        clip_grad_norm_(model.parameters(), 0.5)\n",
    "        optimizer.step()\n",
    "\n",
    "    if epoch % 1 == 0:\n",
    "        print ('Epoch [{}/{}], Loss: {:.4f}, Perplexity: {:5.2f}'\n",
    "               .format(epoch + 1, epochs, loss.item(), np.exp(loss.item())))"
   ]
  },
  {
   "cell_type": "code",
   "execution_count": 97,
   "metadata": {},
   "outputs": [
    {
     "name": "stdout",
     "output_type": "stream",
     "text": [
      "(1, 4, 1)\n",
      "Argmax:  the\n",
      "Next word:  toseland\n"
     ]
    }
   ],
   "source": [
    "# Predict\n",
    "test_sentences = [\"he could see\"]\n",
    "sentence, _ = tokenize_sentence(test_sentences[0], max_sentence_length)\n",
    "sentence = sentence[:-1]\n",
    "word_indexes = np.array([word2vec_model.wv.vocab[word].index for word in sentence]).reshape(1, len(sentence), 1)\n",
    "print(word_indexes.shape)\n",
    "\n",
    "hidden = (torch.zeros(1, 1, hidden_size), torch.zeros(1, 1, hidden_size))\n",
    "h, c = hidden\n",
    "h = h.detach()\n",
    "c = c.detach()\n",
    "hidden = (h, c)\n",
    "\n",
    "outputs, hidden = model(word_indexes, hidden, x_lens, train=False)\n",
    "softmax_outputs = F.softmax(outputs, dim=1).detach().numpy()\n",
    "last_word = softmax_outputs[-1,:]\n",
    "predicted_next_word_idx = np.random.choice(range(len(last_word)), p=last_word)\n",
    "print(\"Argmax: \", word2vec_model.wv.index2word[np.argmax(last_word)])\n",
    "print(\"Next word: \", word2vec_model.wv.index2word[predicted_next_word_idx])"
   ]
  },
  {
   "cell_type": "code",
   "execution_count": 2,
   "metadata": {},
   "outputs": [],
   "source": [
    "class Encoder(nn.Module):\n",
    "    def __init__(self, hidden_size, num_layers, embedding_weights, synthetic=False):\n",
    "        super(Encoder, self).__init__()\n",
    "        # parameters\n",
    "        self.embedding_size = embedding_weights.shape[1]\n",
    "        self.hidden_size = hidden_size\n",
    "        self.num_layers = num_layers\n",
    "        self.batch_first = True\n",
    "        \n",
    "        #layers\n",
    "        self.embed = nn.Embedding.from_pretrained(embedding_weights)\n",
    "        self.lstm = nn.LSTM(self.embedding_size, self.hidden_size, self.num_layers, batch_first=self.batch_first)\n",
    "        if synthetic:          \n",
    "            for param in self.parameters():\n",
    "                nn.init.uniform_(param, -0.01, 0.01)\n",
    "        nn.init.uniform_(self.embed.weight, -0.1, 0.1)\n",
    "        \n",
    "    def forward(self, x, hidden, x_lens=None, train=True):\n",
    "        batch_size, max_len, _ = x.shape\n",
    "        \n",
    "        x = torch.tensor(x, dtype=torch.long)  # make the input into a torch tensor\n",
    "        x = self.embed(x).view(batch_size, max_len, self.embedding_size)\n",
    "\n",
    "        if x_lens is not None and train:\n",
    "            x_lens = torch.tensor(x_lens, dtype=torch.long)\n",
    "            x = pack_padded_sequence(x, x_lens, batch_first=self.batch_first)\n",
    "            \n",
    "        output, hidden = self.lstm(x.float(), hidden) \n",
    "\n",
    "        if x_lens is not None and train:\n",
    "            output, output_lens = pad_packed_sequence(output, batch_first=self.batch_first, \n",
    "                                                      total_length=max_sentence_length-1)\n",
    "        \n",
    "#         output = output.reshape(output.size(0)*output.size(1), output.size(2))\n",
    "#         output = self.linear(output)\n",
    "        \n",
    "        return output, hidden\n",
    "    \n",
    "    def init_hidden(self, batch_size):\n",
    "        h = torch.zeros(self.num_layers, batch_size, self.hidden_size)\n",
    "        c = torch.zeros(self.num_layers, batch_size, self.hidden_size)\n",
    "        return (h, c)"
   ]
  },
  {
   "cell_type": "code",
   "execution_count": 3,
   "metadata": {},
   "outputs": [],
   "source": [
    "class Decoder(nn.Module):\n",
    "    def __init__(self,hidden_size, num_layers, embedding_weights, synthetic=False):\n",
    "        super(Decoder, self).__init__()\n",
    "        # parameters\n",
    "        self.vocabulary_size = embedding_weights.shape[0]\n",
    "        self.embedding_size = embedding_weights.shape[1]\n",
    "        self.hidden_size = hidden_size\n",
    "        self.num_layers = num_layers\n",
    "        self.batch_first = True\n",
    "        \n",
    "        # layers\n",
    "        self.embed = nn.Embedding.from_pretrained(embedding_weights)\n",
    "        self.lstm = nn.LSTM(self.embedding_size, self.hidden_size, self.num_layers, batch_first=self.batch_first)\n",
    "        self.linear = nn.Linear(self.hidden_size, self.vocabulary_size)\n",
    "        if synthetic:          \n",
    "            for param in self.parameters():\n",
    "                nn.init.uniform_(param, -0.01, 0.01)\n",
    "        nn.init.uniform_(self.embed.weight, -0.1, 0.1)\n",
    "\n",
    "    def forward(self, x, hidden, x_lens=None, train=True):\n",
    "        batch_size, max_len, _ = x.shape\n",
    "        \n",
    "        x = torch.tensor(x, dtype=torch.long)  # make the input into a torch tensor\n",
    "        x = self.embed(x).view(batch_size, max_len, self.embedding_size)\n",
    "        \n",
    "        if x_lens is not None and train:\n",
    "            x_lens = torch.tensor(x_lens, dtype=torch.long)\n",
    "            x = pack_padded_sequence(x, x_lens, batch_first=self.batch_first)\n",
    "\n",
    "        output, hidden = self.lstm(x.float(), hidden) \n",
    "        \n",
    "        if x_lens is not None and train:\n",
    "            output, output_lens = pad_packed_sequence(output, batch_first=self.batch_first, \n",
    "                                                      total_length=max_sentence_length-1)\n",
    "        \n",
    "        output = output.reshape(output.size(0)*output.size(1), output.size(2))\n",
    "        output = self.linear(output)\n",
    "        \n",
    "        return output, hidden"
   ]
  },
  {
   "cell_type": "code",
   "execution_count": 4,
   "metadata": {},
   "outputs": [],
   "source": [
    "class VAE(nn.Module):\n",
    "    def __init__(self, hidden_dim, num_layers, embedding_weights, latent_dim, synthetic=False):\n",
    "        super(VAE, self).__init__()\n",
    "        self.encoder = Encoder(hidden_size, num_layers, embedding_weights, synthetic)\n",
    "        self.decoder = Decoder(hidden_size, num_layers, embedding_weights, synthetic)\n",
    "        self.latent_dim = latent_dim\n",
    "        self.hidden_dim = hidden_dim\n",
    "        self.batch_first = True\n",
    "        \n",
    "        self.hidden_to_mean = nn.Linear(2 * self.hidden_dim * num_layers, self.latent_dim, self.batch_first)\n",
    "        self.hidden_to_logvar = nn.Linear(2 * self.hidden_dim * num_layers, self.latent_dim, self.batch_first)\n",
    "        self.latent_to_hidden = nn.Linear(latent_dim, 2 * self.hidden_dim * num_layers, self.batch_first)\n",
    "        if synthetic:          \n",
    "            for param in self.parameters():\n",
    "                nn.init.uniform_(param, -0.01, 0.01)\n",
    "        \n",
    "    def reparametrize(self, mean, log_variance):\n",
    "        eps = torch.randn_like(mean)\n",
    "        return mean + eps * torch.exp(0.5 * log_variance)\n",
    "        \n",
    "    def encode(self, x, x_lens=None):\n",
    "        batch_size, max_len, _ = x.shape\n",
    "        hidden = self.encoder.init_hidden(batch_size)\n",
    "        _, hidden = self.encoder.forward(x, hidden, x_lens)\n",
    "        return hidden\n",
    "        \n",
    "    def decode(self, hidden, x, x_lens=None, train=True):\n",
    "        outputs, _ = self.decoder.forward(x, hidden, x_lens, train)\n",
    "        return outputs\n",
    "    \n",
    "    def forward(self, x, x_lens=None):\n",
    "        hidden = self.encode(x, x_lens)\n",
    "        hidden_concatenated = torch.cat((hidden[0], hidden[1]), 2)\n",
    "        \n",
    "        mean = self.hidden_to_mean(hidden_concatenated)\n",
    "        \n",
    "        log_variance = self.hidden_to_logvar(hidden_concatenated)\n",
    "        z = self.reparametrize(mean, log_variance)\n",
    "        hidden = self.latent_to_hidden(z)\n",
    "        \n",
    "        hidden = torch.split(hidden, self.hidden_dim, dim=2)\n",
    "        outputs = self.decode(hidden, x, x_lens)\n",
    "        return mean, log_variance, outputs"
   ]
  },
  {
   "cell_type": "code",
   "execution_count": 5,
   "metadata": {},
   "outputs": [
    {
     "ename": "NameError",
     "evalue": "name 'hidden_size' is not defined",
     "output_type": "error",
     "traceback": [
      "\u001b[1;31m---------------------------------------------------------------------------\u001b[0m",
      "\u001b[1;31mNameError\u001b[0m                                 Traceback (most recent call last)",
      "\u001b[1;32m<ipython-input-5-f3476d9dda4e>\u001b[0m in \u001b[0;36m<module>\u001b[1;34m\u001b[0m\n\u001b[0;32m      5\u001b[0m     \u001b[1;32mreturn\u001b[0m \u001b[0mloss\u001b[0m\u001b[1;33m\u001b[0m\u001b[0m\n\u001b[0;32m      6\u001b[0m \u001b[1;33m\u001b[0m\u001b[0m\n\u001b[1;32m----> 7\u001b[1;33m \u001b[0mvae\u001b[0m \u001b[1;33m=\u001b[0m \u001b[0mVAE\u001b[0m\u001b[1;33m(\u001b[0m\u001b[0mhidden_size\u001b[0m\u001b[1;33m,\u001b[0m \u001b[0mnum_layers\u001b[0m\u001b[1;33m,\u001b[0m \u001b[0membedding_weights\u001b[0m\u001b[1;33m,\u001b[0m \u001b[1;36m10\u001b[0m\u001b[1;33m)\u001b[0m\u001b[1;33m\u001b[0m\u001b[0m\n\u001b[0m\u001b[0;32m      8\u001b[0m \u001b[0mvae_optimizer\u001b[0m \u001b[1;33m=\u001b[0m \u001b[0mtorch\u001b[0m\u001b[1;33m.\u001b[0m\u001b[0moptim\u001b[0m\u001b[1;33m.\u001b[0m\u001b[0mAdam\u001b[0m\u001b[1;33m(\u001b[0m\u001b[0mvae\u001b[0m\u001b[1;33m.\u001b[0m\u001b[0mparameters\u001b[0m\u001b[1;33m(\u001b[0m\u001b[1;33m)\u001b[0m\u001b[1;33m,\u001b[0m \u001b[0mlr\u001b[0m\u001b[1;33m=\u001b[0m\u001b[0mlearning_rate\u001b[0m\u001b[1;33m)\u001b[0m\u001b[1;33m\u001b[0m\u001b[0m\n",
      "\u001b[1;31mNameError\u001b[0m: name 'hidden_size' is not defined"
     ]
    }
   ],
   "source": [
    "def loss_function(outputs, labels, mean, log_variance):\n",
    "    BCE = nn.CrossEntropyLoss()(outputs, labels)\n",
    "    KLD = -0.5 * torch.sum(1 + log_variance - mean.pow(2) - log_variance.exp())\n",
    "    loss = BCE + KLD\n",
    "    return loss\n",
    "                           \n",
    "vae = VAE(hidden_size, num_layers, embedding_weights, 10)\n",
    "vae_optimizer = torch.optim.Adam(vae.parameters(), lr=learning_rate)"
   ]
  },
  {
   "cell_type": "code",
   "execution_count": 88,
   "metadata": {},
   "outputs": [
    {
     "name": "stdout",
     "output_type": "stream",
     "text": [
      "z torch.Size([1, 20, 10])\n",
      "z torch.Size([1, 20, 10])\n",
      "z torch.Size([1, 20, 10])\n",
      "z torch.Size([1, 20, 10])\n",
      "z torch.Size([1, 20, 10])\n",
      "z torch.Size([1, 20, 10])\n",
      "z torch.Size([1, 20, 10])\n",
      "z torch.Size([1, 20, 10])\n",
      "z torch.Size([1, 20, 10])\n",
      "z torch.Size([1, 20, 10])\n",
      "z torch.Size([1, 20, 10])\n",
      "z torch.Size([1, 20, 10])\n",
      "z torch.Size([1, 20, 10])\n",
      "z torch.Size([1, 20, 10])\n",
      "z torch.Size([1, 20, 10])\n",
      "z torch.Size([1, 20, 10])\n",
      "z torch.Size([1, 20, 10])\n",
      "z torch.Size([1, 20, 10])\n",
      "z torch.Size([1, 20, 10])\n",
      "z torch.Size([1, 20, 10])\n"
     ]
    },
    {
     "ename": "KeyboardInterrupt",
     "evalue": "",
     "output_type": "error",
     "traceback": [
      "\u001b[1;31m---------------------------------------------------------------------------\u001b[0m",
      "\u001b[1;31mKeyboardInterrupt\u001b[0m                         Traceback (most recent call last)",
      "\u001b[1;32m<ipython-input-88-c8d97ccc7375>\u001b[0m in \u001b[0;36m<module>\u001b[1;34m\u001b[0m\n\u001b[0;32m     12\u001b[0m \u001b[1;33m\u001b[0m\u001b[0m\n\u001b[0;32m     13\u001b[0m         \u001b[0mvae\u001b[0m\u001b[1;33m.\u001b[0m\u001b[0mzero_grad\u001b[0m\u001b[1;33m(\u001b[0m\u001b[1;33m)\u001b[0m\u001b[1;33m\u001b[0m\u001b[0m\n\u001b[1;32m---> 14\u001b[1;33m         \u001b[0mloss\u001b[0m\u001b[1;33m.\u001b[0m\u001b[0mbackward\u001b[0m\u001b[1;33m(\u001b[0m\u001b[1;33m)\u001b[0m\u001b[1;33m\u001b[0m\u001b[0m\n\u001b[0m\u001b[0;32m     15\u001b[0m         \u001b[0mclip_grad_norm_\u001b[0m\u001b[1;33m(\u001b[0m\u001b[0mvae\u001b[0m\u001b[1;33m.\u001b[0m\u001b[0mparameters\u001b[0m\u001b[1;33m(\u001b[0m\u001b[1;33m)\u001b[0m\u001b[1;33m,\u001b[0m \u001b[1;36m0.5\u001b[0m\u001b[1;33m)\u001b[0m\u001b[1;33m\u001b[0m\u001b[0m\n\u001b[0;32m     16\u001b[0m         \u001b[0mvae_optimizer\u001b[0m\u001b[1;33m.\u001b[0m\u001b[0mstep\u001b[0m\u001b[1;33m(\u001b[0m\u001b[1;33m)\u001b[0m\u001b[1;33m\u001b[0m\u001b[0m\n",
      "\u001b[1;32mc:\\program files\\python35\\lib\\site-packages\\torch\\tensor.py\u001b[0m in \u001b[0;36mbackward\u001b[1;34m(self, gradient, retain_graph, create_graph)\u001b[0m\n\u001b[0;32m    100\u001b[0m                 \u001b[0mproducts\u001b[0m\u001b[1;33m.\u001b[0m \u001b[0mDefaults\u001b[0m \u001b[0mto\u001b[0m\u001b[0;31m \u001b[0m\u001b[0;31m`\u001b[0m\u001b[0;31m`\u001b[0m\u001b[1;32mFalse\u001b[0m\u001b[0;31m`\u001b[0m\u001b[0;31m`\u001b[0m\u001b[1;33m.\u001b[0m\u001b[1;33m\u001b[0m\u001b[0m\n\u001b[0;32m    101\u001b[0m         \"\"\"\n\u001b[1;32m--> 102\u001b[1;33m         \u001b[0mtorch\u001b[0m\u001b[1;33m.\u001b[0m\u001b[0mautograd\u001b[0m\u001b[1;33m.\u001b[0m\u001b[0mbackward\u001b[0m\u001b[1;33m(\u001b[0m\u001b[0mself\u001b[0m\u001b[1;33m,\u001b[0m \u001b[0mgradient\u001b[0m\u001b[1;33m,\u001b[0m \u001b[0mretain_graph\u001b[0m\u001b[1;33m,\u001b[0m \u001b[0mcreate_graph\u001b[0m\u001b[1;33m)\u001b[0m\u001b[1;33m\u001b[0m\u001b[0m\n\u001b[0m\u001b[0;32m    103\u001b[0m \u001b[1;33m\u001b[0m\u001b[0m\n\u001b[0;32m    104\u001b[0m     \u001b[1;32mdef\u001b[0m \u001b[0mregister_hook\u001b[0m\u001b[1;33m(\u001b[0m\u001b[0mself\u001b[0m\u001b[1;33m,\u001b[0m \u001b[0mhook\u001b[0m\u001b[1;33m)\u001b[0m\u001b[1;33m:\u001b[0m\u001b[1;33m\u001b[0m\u001b[0m\n",
      "\u001b[1;32mc:\\program files\\python35\\lib\\site-packages\\torch\\autograd\\__init__.py\u001b[0m in \u001b[0;36mbackward\u001b[1;34m(tensors, grad_tensors, retain_graph, create_graph, grad_variables)\u001b[0m\n\u001b[0;32m     88\u001b[0m     Variable._execution_engine.run_backward(\n\u001b[0;32m     89\u001b[0m         \u001b[0mtensors\u001b[0m\u001b[1;33m,\u001b[0m \u001b[0mgrad_tensors\u001b[0m\u001b[1;33m,\u001b[0m \u001b[0mretain_graph\u001b[0m\u001b[1;33m,\u001b[0m \u001b[0mcreate_graph\u001b[0m\u001b[1;33m,\u001b[0m\u001b[1;33m\u001b[0m\u001b[0m\n\u001b[1;32m---> 90\u001b[1;33m         allow_unreachable=True)  # allow_unreachable flag\n\u001b[0m\u001b[0;32m     91\u001b[0m \u001b[1;33m\u001b[0m\u001b[0m\n\u001b[0;32m     92\u001b[0m \u001b[1;33m\u001b[0m\u001b[0m\n",
      "\u001b[1;31mKeyboardInterrupt\u001b[0m: "
     ]
    }
   ],
   "source": [
    "for epoch in range(epochs):\n",
    "    for i in range(len(train_batches)):\n",
    "        x = train_batches[i]\n",
    "        x_lens = train_sentence_lens[i]\n",
    "        y = torch.tensor(train_targets[i].reshape(-1), dtype=torch.long)\n",
    "    \n",
    "        mean, log_variance, outputs = vae(x, x_lens)\n",
    "        \n",
    "        mask = (y < padding_index)\n",
    "        #loss = nn.CrossEntropyLoss()(outputs[mask], y[mask]) # TODO CHANGE THIS TO VAE LOSS\n",
    "        loss = loss_function(outputs[mask], y[mask], mean, log_variance)\n",
    "\n",
    "        vae.zero_grad()\n",
    "        loss.backward()\n",
    "        clip_grad_norm_(vae.parameters(), 0.5)\n",
    "        vae_optimizer.step()\n",
    "\n",
    "    if epoch % 1 == 0:\n",
    "        print ('Epoch [{}/{}], Loss: {:.4f}, Perplexity: {:5.2f}'\n",
    "               .format(epoch + 1, epochs, loss.item(), np.exp(loss.item())))"
   ]
  },
  {
   "cell_type": "code",
   "execution_count": 10,
   "metadata": {},
   "outputs": [
    {
     "ename": "NameError",
     "evalue": "name 'tokenize_sentence' is not defined",
     "output_type": "error",
     "traceback": [
      "\u001b[1;31m---------------------------------------------------------------------------\u001b[0m",
      "\u001b[1;31mNameError\u001b[0m                                 Traceback (most recent call last)",
      "\u001b[1;32m<ipython-input-10-ac035128d6bb>\u001b[0m in \u001b[0;36m<module>\u001b[1;34m\u001b[0m\n\u001b[0;32m      1\u001b[0m \u001b[1;31m# Predict\u001b[0m\u001b[1;33m\u001b[0m\u001b[1;33m\u001b[0m\u001b[0m\n\u001b[0;32m      2\u001b[0m \u001b[0mtest_sentences\u001b[0m \u001b[1;33m=\u001b[0m \u001b[1;33m[\u001b[0m\u001b[1;34m\"he could see\"\u001b[0m\u001b[1;33m]\u001b[0m\u001b[1;33m\u001b[0m\u001b[0m\n\u001b[1;32m----> 3\u001b[1;33m \u001b[0msentence\u001b[0m\u001b[1;33m,\u001b[0m \u001b[0m_\u001b[0m \u001b[1;33m=\u001b[0m \u001b[0mtokenize_sentence\u001b[0m\u001b[1;33m(\u001b[0m\u001b[0mtest_sentences\u001b[0m\u001b[1;33m[\u001b[0m\u001b[1;36m0\u001b[0m\u001b[1;33m]\u001b[0m\u001b[1;33m,\u001b[0m \u001b[0mmax_sentence_length\u001b[0m\u001b[1;33m)\u001b[0m\u001b[1;33m\u001b[0m\u001b[0m\n\u001b[0m\u001b[0;32m      4\u001b[0m \u001b[0msentence\u001b[0m \u001b[1;33m=\u001b[0m \u001b[0msentence\u001b[0m\u001b[1;33m[\u001b[0m\u001b[1;33m:\u001b[0m\u001b[1;33m-\u001b[0m\u001b[1;36m1\u001b[0m\u001b[1;33m]\u001b[0m\u001b[1;33m\u001b[0m\u001b[0m\n\u001b[0;32m      5\u001b[0m \u001b[0mword_indexes\u001b[0m \u001b[1;33m=\u001b[0m \u001b[0mnp\u001b[0m\u001b[1;33m.\u001b[0m\u001b[0marray\u001b[0m\u001b[1;33m(\u001b[0m\u001b[1;33m[\u001b[0m\u001b[0mword2vec_model\u001b[0m\u001b[1;33m.\u001b[0m\u001b[0mwv\u001b[0m\u001b[1;33m.\u001b[0m\u001b[0mvocab\u001b[0m\u001b[1;33m[\u001b[0m\u001b[0mword\u001b[0m\u001b[1;33m]\u001b[0m\u001b[1;33m.\u001b[0m\u001b[0mindex\u001b[0m \u001b[1;32mfor\u001b[0m \u001b[0mword\u001b[0m \u001b[1;32min\u001b[0m \u001b[0msentence\u001b[0m\u001b[1;33m]\u001b[0m\u001b[1;33m)\u001b[0m\u001b[1;33m.\u001b[0m\u001b[0mreshape\u001b[0m\u001b[1;33m(\u001b[0m\u001b[1;36m1\u001b[0m\u001b[1;33m,\u001b[0m \u001b[0mlen\u001b[0m\u001b[1;33m(\u001b[0m\u001b[0msentence\u001b[0m\u001b[1;33m)\u001b[0m\u001b[1;33m,\u001b[0m \u001b[1;36m1\u001b[0m\u001b[1;33m)\u001b[0m\u001b[1;33m\u001b[0m\u001b[0m\n",
      "\u001b[1;31mNameError\u001b[0m: name 'tokenize_sentence' is not defined"
     ]
    }
   ],
   "source": [
    "# Predict\n",
    "test_sentences = [\"he could see\"]\n",
    "sentence, _ = tokenize_sentence(test_sentences[0], max_sentence_length)\n",
    "sentence = sentence[:-1]\n",
    "word_indexes = np.array([word2vec_model.wv.vocab[word].index for word in sentence]).reshape(1, len(sentence), 1)\n",
    "print(word_indexes.shape)\n",
    "\n",
    "hidden = (torch.zeros(1, 1, hidden_size), torch.zeros(1, 1, hidden_size))\n",
    "h, c = hidden\n",
    "h = h.detach()\n",
    "c = c.detach()\n",
    "hidden = (h, c)\n",
    "\n",
    "outputs, hidden = model(word_indexes, hidden, x_lens, train=False)\n",
    "softmax_outputs = F.softmax(outputs, dim=1).detach().numpy()\n",
    "last_word = softmax_outputs[-1,:]\n",
    "predicted_next_word_idx = np.random.choice(range(len(last_word)), p=last_word)\n",
    "print(\"Argmax: \", word2vec_model.wv.index2word[np.argmax(last_word)])\n",
    "print(\"Next word: \", word2vec_model.wv.index2word[predicted_next_word_idx])"
   ]
  },
  {
   "cell_type": "markdown",
   "metadata": {},
   "source": [
    "Synthetic data - posterior collapse demonstration"
   ]
  },
  {
   "cell_type": "code",
   "execution_count": 25,
   "metadata": {},
   "outputs": [],
   "source": [
    "test_syn_data = np.loadtxt('./synthetic-data/synthetic_test.txt', dtype=int)\n",
    "train_syn_data = np.loadtxt('./synthetic-data/synthetic_train.txt', dtype=int)\n",
    "\n",
    "batch_size = 20\n",
    "inputs = []\n",
    "targets = []\n",
    "random_indices = np.random.choice(train_syn_data.shape[0], 500)\n",
    "tracked_inputs = []\n",
    "tracked_targets = []\n",
    "for random_index in random_indices:\n",
    "    tracked_inputs.append(train_syn_data[random_index, :-1])\n",
    "    tracked_targets.append(train_syn_data[random_index, 1:])\n",
    "tracked_inputs = np.expand_dims(np.array(tracked_inputs), axis=-1)\n",
    "tracked_targets = np.expand_dims(np.array(tracked_targets), axis=-1)\n",
    "\n",
    "for i in range(len(train_syn_data) // batch_size):\n",
    "    batch_sentences = train_syn_data[i * batch_size:(i+1) * batch_size]\n",
    "    \n",
    "    input_batch = np.ones((batch_size, train_syn_data.shape[1] - 1, 1)) \n",
    "    target_batch = np.ones((batch_size, train_syn_data.shape[1] - 1, 1)) \n",
    "    for j, sentence in enumerate(batch_sentences):\n",
    "            input_batch[j,0:len(sentence)-1,0] = sentence[:-1]\n",
    "            target_batch[j,0:len(sentence)-1,0] = sentence[1:]\n",
    "    inputs.append(input_batch)\n",
    "    targets.append(target_batch)"
   ]
  },
  {
   "cell_type": "code",
   "execution_count": 26,
   "metadata": {},
   "outputs": [],
   "source": [
    "def log_sum_exp(value, dim=None, keepdim=False):\n",
    "    \"\"\"Numerically stable implementation of the operation\n",
    "    value.exp().sum(dim, keepdim).log() - copied from repo, we should change it\n",
    "    \"\"\"\n",
    "    if dim is not None:\n",
    "        m, _ = torch.max(value, dim=dim, keepdim=True)\n",
    "        value0 = value - m\n",
    "        if keepdim is False:\n",
    "            m = m.squeeze(dim)\n",
    "        return m + torch.log(torch.sum(torch.exp(value0), dim=dim, keepdim=keepdim))\n",
    "    else:\n",
    "        m = torch.max(value)\n",
    "        sum_exp = torch.sum(torch.exp(value - m))\n",
    "        return m + torch.log(sum_exp)\n",
    "\n",
    "    \n",
    "def compute_true_posterior(latent_grid, vae, inputs, targets):\n",
    "    log_true_posterior = compute_true_log_posterior(latent_grid, vae, inputs, targets)\n",
    "    true_posterior = log_true_posterior.exp()\n",
    "    return true_posterior\n",
    "\n",
    "def compute_true_log_posterior(latent_grid, vae, inputs, targets):\n",
    "    latent_grid = latent_grid.unsqueeze(0).expand(inputs.shape[0], *latent_grid.size()).contiguous().permute(1, 0, 2)\n",
    "    \n",
    "    # Compute the true joint\n",
    "    log_true_joint = compute_true_joint(latent_grid, vae, inputs, targets)\n",
    "    \n",
    "    # Normalize by marginalizing z\n",
    "    log_true_posterior = log_true_joint - log_sum_exp(log_true_joint, dim=0, keepdim=True)\n",
    "    return log_true_posterior\n",
    "\n",
    "def compute_true_joint(latent_grid, vae, inputs, targets):\n",
    "    n_sample, batch_size, latent_dim = latent_grid.size()\n",
    "    seq_len = inputs.shape[1]\n",
    "    # Compute prior p(z)\n",
    "    normal = torch.distributions.normal.Normal(torch.zeros(latent_dim), torch.ones(latent_dim))\n",
    "    log_true_prior = normal.log_prob(latent_grid).sum(dim=-1)\n",
    "    \n",
    "    # Compute conditional p(x | z)\n",
    "    log_true_conditional = torch.zeros(latent_grid.size(0), latent_grid.size(1))  \n",
    "    tensor_target_batch = torch.tensor(targets.reshape(-1), dtype=torch.long)\n",
    "    for i in range(latent_grid.size(0)):\n",
    "        hidden = vae.latent_to_hidden(latent_grid[i]).unsqueeze(0)\n",
    "        hidden = torch.split(hidden, vae.hidden_dim, dim=-1)\n",
    "        outputs = vae.decode(hidden, inputs, train=False)\n",
    "        log_true_conditional[i] = -nn.CrossEntropyLoss(reduction='none')(outputs, tensor_target_batch).view(batch_size, -1).sum(-1)\n",
    "        \n",
    "    # Compute joint p(x, z)\n",
    "    log_true_joint = log_true_prior + log_true_conditional\n",
    "    return log_true_joint\n",
    "\n",
    "def compute_true_posterior_mean(true_posterior, latent_grid):\n",
    "    return torch.mul(true_posterior.unsqueeze(2), latent_grid.unsqueeze(0)).sum(1)\n",
    "\n",
    "def generate_grid(lower, upper, step, dim=2):\n",
    "    line = torch.arange(lower, upper, step)\n",
    "    total_points = line.size(0)\n",
    "    if dim == 2:\n",
    "        z1 = line.unsqueeze(1).repeat(1, total_points).view(-1)\n",
    "        z2 = line.repeat(total_points)\n",
    "        return torch.cat((z1.unsqueeze(-1), z2.unsqueeze(-1)), dim=-1)\n",
    "    elif dim == 1:\n",
    "        return line.unsqueeze(1)"
   ]
  },
  {
   "cell_type": "code",
   "execution_count": 31,
   "metadata": {},
   "outputs": [],
   "source": [
    "vocab_size = 1000\n",
    "hidden_size = 50\n",
    "latent_size = 1\n",
    "num_layers = 1\n",
    "sequence_length = 10\n",
    "\n",
    "x_lens = sequence_length*np.ones((batch_size, train_syn_data.shape[1] - 1))\n",
    "embedding_weights = nn.Embedding(vocab_size, hidden_size).weight\n",
    "vae = VAE(hidden_size, num_layers, embedding_weights, latent_size, synthetic=True)\n",
    "vae_optimizer = torch.optim.Adam(vae.parameters(), lr=0.1, betas=(0.9, 0.999))"
   ]
  },
  {
   "cell_type": "code",
   "execution_count": 32,
   "metadata": {},
   "outputs": [],
   "source": [
    "step = 1.0\n",
    "latent_grid = generate_grid(-20, 20, step, latent_size)\n",
    "true_posterior = compute_true_posterior(latent_grid, vae, tracked_inputs, tracked_targets)\n",
    "true_mean = compute_true_posterior_mean(true_posterior.t(), latent_grid)\n",
    "approximate_mean, _, outputs = vae(tracked_inputs)"
   ]
  },
  {
   "cell_type": "code",
   "execution_count": 33,
   "metadata": {},
   "outputs": [
    {
     "data": {
      "image/png": "[encoded data removed]",
      "text/plain": [
       "<Figure size 432x288 with 1 Axes>"
      ]
     },
     "metadata": {
      "needs_background": "light"
     },
     "output_type": "display_data"
    }
   ],
   "source": [
    "plt.scatter(true_mean.detach().numpy(), approximate_mean.detach().numpy(), marker='x')\n",
    "plt.xlim(-3, 3)\n",
    "plt.ylim(-3, 3)\n",
    "plt.show()"
   ]
  },
  {
   "cell_type": "code",
   "execution_count": null,
   "metadata": {},
   "outputs": [
    {
     "data": {
      "image/png": "[encoded data removed]",
      "text/plain": [
       "<Figure size 432x288 with 1 Axes>"
      ]
     },
     "metadata": {
      "needs_background": "light"
     },
     "output_type": "display_data"
    },
    {
     "name": "stdout",
     "output_type": "stream",
     "text": [
      "Epoch [1/100], Loss: 4.3379, Perplexity: 76.54\n"
     ]
    }
   ],
   "source": [
    "epochs = 100\n",
    "for epoch in range(epochs):\n",
    "    for i in range(len(inputs)):\n",
    "        x = inputs[i]\n",
    "        y = torch.tensor(targets[i].reshape(-1), dtype=torch.long)\n",
    "        \n",
    "        mean, log_variance, outputs = vae(x)\n",
    "        loss = loss_function(outputs, y, mean, log_variance)\n",
    "\n",
    "        vae.zero_grad()\n",
    "        loss.backward()\n",
    "        clip_grad_norm_(vae.parameters(), 5.0)\n",
    "        vae_optimizer.step()\n",
    "\n",
    "    if epoch % 1 == 0:\n",
    "        latent_grid = generate_grid(-20, 20, step, latent_size)\n",
    "        true_posterior = compute_true_posterior(latent_grid, vae, tracked_inputs, tracked_targets)\n",
    "        true_mean = compute_true_posterior_mean(true_posterior.t(), latent_grid)\n",
    "        approximate_mean, _, outputs = vae(tracked_inputs)\n",
    "        plt.scatter(true_mean.detach().numpy(), approximate_mean.detach().numpy(), marker='x')\n",
    "        plt.xlim(-3, 3)\n",
    "        plt.ylim(-3, 3)\n",
    "        plt.show()\n",
    "        print ('Epoch [{}/{}], Loss: {:.4f}, Perplexity: {:5.2f}'\n",
    "               .format(epoch + 1, epochs, loss.item(), np.exp(loss.item())))"
   ]
  },
  {
   "cell_type": "code",
   "execution_count": null,
   "metadata": {},
   "outputs": [],
   "source": []
  }
 ],
 "metadata": {
  "kernelspec": {
   "display_name": "Python 3",
   "language": "python",
   "name": "python3"
  },
  "language_info": {
   "codemirror_mode": {
    "name": "ipython",
    "version": 3
   },
   "file_extension": ".py",
   "mimetype": "text/x-python",
   "name": "python",
   "nbconvert_exporter": "python",
   "pygments_lexer": "ipython3",
   "version": "3.5.3"
  }
 },
 "nbformat": 4,
 "nbformat_minor": 2
}
